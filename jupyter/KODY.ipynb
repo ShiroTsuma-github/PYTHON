{
 "cells": [
  {
   "cell_type": "markdown",
   "metadata": {},
   "source": [
    "<h3>Notatka:\n",
    "Prezentowane w formie funkcji interaktywnej dla lepszej prezentacji, ale wlasciwy kod powinien byc bez f(x), indentacji, a samo x powinno byc wpisane | odczytywane z input()"
   ]
  },
  {
   "cell_type": "code",
   "execution_count": 1,
   "metadata": {},
   "outputs": [],
   "source": [
    "from __future__ import print_function\n",
    "from ipywidgets import interact, interactive, fixed\n",
    "import ipywidgets as widgets\n",
    "from time import sleep  "
   ]
  },
  {
   "cell_type": "markdown",
   "metadata": {},
   "source": [
    "<h4>z1"
   ]
  },
  {
   "cell_type": "code",
   "execution_count": 2,
   "metadata": {},
   "outputs": [
    {
     "data": {
      "application/vnd.jupyter.widget-view+json": {
       "model_id": "454e3437ad5e48a58ed1f8718a7df4ed",
       "version_major": 2,
       "version_minor": 0
      },
      "text/plain": [
       "interactive(children=(IntSlider(value=13, description='x', max=25, min=1), Output()), _dom_classes=('widget-in…"
      ]
     },
     "metadata": {},
     "output_type": "display_data"
    },
    {
     "data": {
      "text/plain": [
       "<function __main__.f(x)>"
      ]
     },
     "execution_count": 2,
     "metadata": {},
     "output_type": "execute_result"
    }
   ],
   "source": [
    "\n",
    "def f(x):\n",
    "    fibb=[0,1]\n",
    "    for i in range(x):\n",
    "        fibb.append(fibb[i]+fibb[i+1])\n",
    "    print(fibb)\n",
    "interact(f,x=(1,25,1))"
   ]
  },
  {
   "cell_type": "markdown",
   "metadata": {},
   "source": [
    "<h4>z2"
   ]
  },
  {
   "cell_type": "code",
   "execution_count": 3,
   "metadata": {},
   "outputs": [
    {
     "data": {
      "application/vnd.jupyter.widget-view+json": {
       "model_id": "bdebb5f5f2e54ce7b95a3d6330395539",
       "version_major": 2,
       "version_minor": 0
      },
      "text/plain": [
       "interactive(children=(IntSlider(value=51, description='x', min=3), Output()), _dom_classes=('widget-interact',…"
      ]
     },
     "metadata": {},
     "output_type": "display_data"
    },
    {
     "data": {
      "text/plain": [
       "<function __main__.f(x)>"
      ]
     },
     "execution_count": 3,
     "metadata": {},
     "output_type": "execute_result"
    }
   ],
   "source": [
    "\n",
    "def f(x):\n",
    "    pierwsze=[2,3]\n",
    "    dzielne=[2,3]\n",
    "    podzielna=False\n",
    "    for liczba in range(5,x,2):\n",
    "        for dzielnik in dzielne:\n",
    "            if liczba%dzielnik==0:\n",
    "                podzielna=True\n",
    "                break\n",
    "        if not podzielna:\n",
    "            pierwsze.append(liczba)\n",
    "            dzielne.append(liczba)\n",
    "        podzielna=False\n",
    "    print(pierwsze)\n",
    "interact(f,x=(3,100,1))"
   ]
  },
  {
   "cell_type": "code",
   "execution_count": 4,
   "metadata": {},
   "outputs": [
    {
     "ename": "SyntaxError",
     "evalue": "invalid syntax (2884255528.py, line 1)",
     "output_type": "error",
     "traceback": [
      "\u001b[1;36m  Cell \u001b[1;32mIn[4], line 1\u001b[1;36m\u001b[0m\n\u001b[1;33m    x = liczba startowa = 15\u001b[0m\n\u001b[1;37m               ^\u001b[0m\n\u001b[1;31mSyntaxError\u001b[0m\u001b[1;31m:\u001b[0m invalid syntax\n"
     ]
    }
   ],
   "source": [
    "x = liczba startowa = 15\n",
    "liczba startowa == 1 \n",
    "x  %2 ==0   -> x/2\n",
    "x %2 == 1 -> 3*x + 1\n",
    "[15, 46, 23, 70, 45]\n"
   ]
  },
  {
   "cell_type": "markdown",
   "metadata": {},
   "source": [
    "<h4>z3"
   ]
  },
  {
   "cell_type": "code",
   "execution_count": null,
   "metadata": {},
   "outputs": [
    {
     "data": {
      "application/vnd.jupyter.widget-view+json": {
       "model_id": "42186f2fc3f940fe8a27a7b9451bd013",
       "version_major": 2,
       "version_minor": 0
      },
      "text/plain": [
       "interactive(children=(IntSlider(value=5, description='x', max=10, min=1), Output()), _dom_classes=('widget-int…"
      ]
     },
     "metadata": {},
     "output_type": "display_data"
    }
   ],
   "source": [
    "#Opcja 1\n",
    "\n",
    "\n",
    "def f(x):\n",
    "    suma=0\n",
    "    for i in range(1,x+1):\n",
    "        suma+=i*i\n",
    "    print(suma)\n",
    "#Ze wzgledu, ze lista porusza od 0 do x-1, to dodajemy 1 do kazdego, zeby otrzymac od 1 do x\n",
    "interact(f, x=(1,10,1))"
   ]
  },
  {
   "cell_type": "code",
   "execution_count": null,
   "metadata": {},
   "outputs": [
    {
     "data": {
      "application/vnd.jupyter.widget-view+json": {
       "model_id": "cf5c693636aa43acad4a01640255b5a7",
       "version_major": 2,
       "version_minor": 0
      },
      "text/plain": [
       "interactive(children=(IntSlider(value=5, description='x', max=10, min=1), Output()), _dom_classes=('widget-int…"
      ]
     },
     "metadata": {},
     "output_type": "display_data"
    },
    {
     "data": {
      "text/plain": [
       "<function __main__.f(x)>"
      ]
     },
     "execution_count": 7,
     "metadata": {},
     "output_type": "execute_result"
    }
   ],
   "source": [
    "#Opcja 2\n",
    "\n",
    "def f(x):\n",
    "    y=(list(range(1,x+1)))\n",
    "    y=sum([i*i for i in y])\n",
    "    print(y)\n",
    "interact(f,x=(1,10,1))"
   ]
  },
  {
   "cell_type": "code",
   "execution_count": null,
   "metadata": {},
   "outputs": [
    {
     "data": {
      "application/vnd.jupyter.widget-view+json": {
       "model_id": "0fcfeb1985ed442ca345ba6f7ae8bf1c",
       "version_major": 2,
       "version_minor": 0
      },
      "text/plain": [
       "interactive(children=(IntSlider(value=5, description='x', max=10, min=1), Output()), _dom_classes=('widget-int…"
      ]
     },
     "metadata": {},
     "output_type": "display_data"
    },
    {
     "data": {
      "text/plain": [
       "<function __main__.f(x)>"
      ]
     },
     "execution_count": 8,
     "metadata": {},
     "output_type": "execute_result"
    }
   ],
   "source": [
    "#Opcja 3\n",
    "def f(x):\n",
    "    suma=sum([i*i for i in range(1,x+1)])\n",
    "    print(suma)\n",
    "interact(f,x=(1,10,1))"
   ]
  },
  {
   "cell_type": "markdown",
   "metadata": {},
   "source": [
    "<h4>z4"
   ]
  },
  {
   "cell_type": "code",
   "execution_count": null,
   "metadata": {},
   "outputs": [
    {
     "name": "stdout",
     "output_type": "stream",
     "text": [
      "Inputted 11.Ending code\n"
     ]
    }
   ],
   "source": [
    "x=10\n",
    "while True:\n",
    "    y=int(input(f\"Podaj liczbe wieksza od {x}: \"))\n",
    "    if y>x:\n",
    "        print(f'Inputted {y}.Ending code')\n",
    "        break\n",
    "#Trzeba pamietac, ze domyslnie input to str, wiec trzeba oznaczyc, ze bedzie int | float"
   ]
  },
  {
   "cell_type": "markdown",
   "metadata": {},
   "source": [
    "<h4>z5"
   ]
  },
  {
   "cell_type": "code",
   "execution_count": null,
   "metadata": {},
   "outputs": [
    {
     "name": "stdout",
     "output_type": "stream",
     "text": [
      "[86, 69, 62]\n"
     ]
    },
    {
     "ename": "ValueError",
     "evalue": "invalid literal for int() with base 10: ''",
     "output_type": "error",
     "traceback": [
      "\u001b[1;31m---------------------------------------------------------------------------\u001b[0m",
      "\u001b[1;31mValueError\u001b[0m                                Traceback (most recent call last)",
      "Cell \u001b[1;32mIn[9], line 9\u001b[0m\n\u001b[0;32m      7\u001b[0m \u001b[39mwhile\u001b[39;00m \u001b[39mlen\u001b[39m(l)\u001b[39m>\u001b[39m\u001b[39m0\u001b[39m:\n\u001b[0;32m      8\u001b[0m     \u001b[39mprint\u001b[39m(l)\n\u001b[1;32m----> 9\u001b[0m     wpisane\u001b[39m=\u001b[39m\u001b[39mint\u001b[39;49m(\u001b[39minput\u001b[39;49m(\u001b[39m\"\u001b[39;49m\u001b[39mPodaj pozycje z tabeli: \u001b[39;49m\u001b[39m\"\u001b[39;49m))\n\u001b[0;32m     10\u001b[0m     l\u001b[39m.\u001b[39mremove(wpisane)\n",
      "\u001b[1;31mValueError\u001b[0m: invalid literal for int() with base 10: ''"
     ]
    }
   ],
   "source": [
    "from random import randint\n",
    "x=3\n",
    "l=[]\n",
    "for i in range(x):\n",
    "    l.append(randint(0,100))   \n",
    "\n",
    "while len(l)>0:\n",
    "    print(l)\n",
    "    wpisane=int(input(\"Podaj pozycje z tabeli: \"))\n",
    "    l.remove(wpisane)"
   ]
  },
  {
   "cell_type": "markdown",
   "metadata": {},
   "source": [
    "<h4>z6"
   ]
  },
  {
   "cell_type": "code",
   "execution_count": null,
   "metadata": {},
   "outputs": [
    {
     "name": "stdout",
     "output_type": "stream",
     "text": [
      "[453, 325, 231, 54, 12, 12, 2]\n"
     ]
    }
   ],
   "source": [
    "#Metoda 1\n",
    "l=[231,325,54,12,2,453,12]\n",
    "l.sort()\n",
    "l.reverse()\n",
    "print(l)"
   ]
  },
  {
   "cell_type": "code",
   "execution_count": null,
   "metadata": {},
   "outputs": [
    {
     "name": "stdout",
     "output_type": "stream",
     "text": [
      "[453, 325, 231, 54, 12, 12, 2]\n"
     ]
    }
   ],
   "source": [
    "#Metoda 2\n",
    "l=[231,325,54,12,2,453,12]\n",
    "l2=[]\n",
    "while len(l)>0:\n",
    "    l2.append(max(l))\n",
    "    l.remove(max(l))\n",
    "print(l2)"
   ]
  },
  {
   "cell_type": "code",
   "execution_count": null,
   "metadata": {},
   "outputs": [
    {
     "name": "stdout",
     "output_type": "stream",
     "text": [
      "[453, 325, 231, 54, 12, 12, 2]\n"
     ]
    }
   ],
   "source": [
    "#Metoda 3\n",
    "l=[231,325,54,12,2,453,12]\n",
    "for i in range(len(l)-1):\n",
    "    for j in range(0, len(l)-i-1):\n",
    "        if l[j]<l[j+1] :\n",
    "            l[j], l[j+1]=l[j+1], l[j]\n",
    "print(l)\n"
   ]
  },
  {
   "cell_type": "markdown",
   "metadata": {},
   "source": [
    "<h4>z7"
   ]
  },
  {
   "cell_type": "code",
   "execution_count": null,
   "metadata": {},
   "outputs": [
    {
     "name": "stdout",
     "output_type": "stream",
     "text": [
      "[1, 3, 4, 43, 12, 13, 56]\n"
     ]
    }
   ],
   "source": [
    "#metoda 1\n",
    "l=[1,12,1,1,1,12,13,3,4,56,56,43,3,3,3]\n",
    "l=list(set(l))\n",
    "print(l)\n"
   ]
  },
  {
   "cell_type": "code",
   "execution_count": null,
   "metadata": {},
   "outputs": [
    {
     "name": "stdout",
     "output_type": "stream",
     "text": [
      "[1, 12, 13, 3, 4, 56, 43]\n"
     ]
    }
   ],
   "source": [
    "#metoda 2\n",
    "l=[1,12,1,1,1,12,13,3,4,56,56,43,3,3,3]\n",
    "l2=[]\n",
    "for pozycja in l:\n",
    "    if pozycja in l2:\n",
    "        pass\n",
    "    else:\n",
    "        l2.append(pozycja)\n",
    "print(l2)\n",
    "\n",
    "\n"
   ]
  }
 ],
 "metadata": {
  "kernelspec": {
   "display_name": "Python 3.10.1 64-bit",
   "language": "python",
   "name": "python3"
  },
  "language_info": {
   "codemirror_mode": {
    "name": "ipython",
    "version": 3
   },
   "file_extension": ".py",
   "mimetype": "text/x-python",
   "name": "python",
   "nbconvert_exporter": "python",
   "pygments_lexer": "ipython3",
   "version": "3.11.4"
  },
  "orig_nbformat": 4,
  "vscode": {
   "interpreter": {
    "hash": "92fb554ec4fe84cec68e655b3ba32c6471acca08ab5093e588c5c2f328a3eb03"
   }
  }
 },
 "nbformat": 4,
 "nbformat_minor": 2
}
