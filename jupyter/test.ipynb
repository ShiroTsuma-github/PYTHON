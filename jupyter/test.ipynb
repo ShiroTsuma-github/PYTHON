{
 "metadata": {
  "language_info": {
   "codemirror_mode": {
    "name": "ipython",
    "version": 3
   },
   "file_extension": ".py",
   "mimetype": "text/x-python",
   "name": "python",
   "nbconvert_exporter": "python",
   "pygments_lexer": "ipython3",
   "version": "3.8.1-final"
  },
  "orig_nbformat": 2,
  "kernelspec": {
   "name": "python3",
   "display_name": "Python 3",
   "language": "python"
  }
 },
 "nbformat": 4,
 "nbformat_minor": 2,
 "cells": [
  {
   "cell_type": "code",
   "execution_count": 1,
   "metadata": {},
   "outputs": [],
   "source": [
    "def print_path(steps):\n",
    "    sea_level=0\n",
    "    result=0\n",
    "    level=0\n",
    "    mountain=0\n",
    "    valley=0\n",
    "    steps=list(steps)\n",
    "    for i,letter in enumerate(steps):\n",
    "        if letter=='U':\n",
    "            level+=1\n",
    "            if level+1==sea_level:\n",
    "                valley+=1\n",
    "        else:\n",
    "            level-=1\n",
    "            if level-1==sea_level:\n",
    "                mountain+=1\n",
    "        \n",
    "        \n",
    "    print(mountain,valley)"
   ]
  },
  {
   "cell_type": "code",
   "execution_count": 2,
   "metadata": {},
   "outputs": [],
   "source": [
    "steps='UDDDUDUU'"
   ]
  },
  {
   "cell_type": "code",
   "execution_count": 3,
   "metadata": {},
   "outputs": [
    {
     "output_type": "stream",
     "name": "stdout",
     "text": [
      "0 2\n"
     ]
    }
   ],
   "source": [
    "print_path(steps)"
   ]
  },
  {
   "cell_type": "code",
   "execution_count": null,
   "metadata": {},
   "outputs": [],
   "source": []
  }
 ]
}