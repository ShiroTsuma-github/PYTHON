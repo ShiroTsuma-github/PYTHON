{
 "metadata": {
  "language_info": {
   "codemirror_mode": {
    "name": "ipython",
    "version": 3
   },
   "file_extension": ".py",
   "mimetype": "text/x-python",
   "name": "python",
   "nbconvert_exporter": "python",
   "pygments_lexer": "ipython3",
   "version": "3.8.1-final"
  },
  "orig_nbformat": 2,
  "kernelspec": {
   "name": "python3",
   "display_name": "Python 3",
   "language": "python"
  }
 },
 "nbformat": 4,
 "nbformat_minor": 2,
 "cells": [
  {
   "cell_type": "code",
   "execution_count": 26,
   "metadata": {},
   "outputs": [
    {
     "output_type": "stream",
     "name": "stdout",
     "text": [
      "Nie działa __file__ w jupyter\n"
     ]
    }
   ],
   "source": [
    "\"\"\"\n",
    "Importowanie własnych modułów z głównego folderu (u mnie: H:\\...\\...\\Python\\MyModules\\) (w przypadku gdy operujesz w pliku H:\\...\\Python\\Moja_aplikacja\\Aplikacja.py)\n",
    "\"\"\"\n",
    "import os, sys\n",
    "try: \n",
    "    sys.path.append(os.path.dirname(os.path.dirname(os.path.realpath(__file__))))\n",
    "    from MyModules import *\n",
    "except:\n",
    "    print('Nie działa __file__ w jupyter')\n"
   ]
  },
  {
   "cell_type": "code",
   "execution_count": 27,
   "metadata": {},
   "outputs": [],
   "source": [
    "#Funkcje dla tekstu\n"
   ]
  },
  {
   "cell_type": "code",
   "execution_count": 28,
   "metadata": {},
   "outputs": [
    {
     "output_type": "stream",
     "name": "stdout",
     "text": [
      " Adam To nie liczba\n 123 To liczba\n 12Adam To nie liczba\n"
     ]
    }
   ],
   "source": [
    "# Sprawdzanie czy text jest liczbą\n",
    "#Zwraca True tylko,jezeli wszystkie litery tekstu to liczby\n",
    "#Zwraca False dla takich wyrazów jak -12 1.3 (tylko liczby 0-9)\n",
    "\n",
    "def SprawdzCzyLiczba(text):\n",
    "    if text.isdigit():\n",
    "\t    print(f\" {text} To liczba\")\n",
    "    else:\n",
    "\t    print(f\" {text} To nie liczba\")\n",
    "\n",
    "slowo='Adam'\n",
    "SprawdzCzyLiczba(slowo)\n",
    "\n",
    "slowo='123'\n",
    "SprawdzCzyLiczba(slowo)\n",
    "\n",
    "slowo='12Adam'\n",
    "SprawdzCzyLiczba(slowo)\n"
   ]
  },
  {
   "cell_type": "code",
   "execution_count": 29,
   "metadata": {},
   "outputs": [
    {
     "output_type": "stream",
     "name": "stdout",
     "text": [
      "spam, eggs, ham\n0123\n"
     ]
    }
   ],
   "source": [
    "#laczy liste stringow z uzyciem innej jako separatora\n",
    "print(\", \".join([\"spam\", \"eggs\", \"ham\"])) \n",
    "x=''.join(['0','1','2','3'])\n",
    "print(x)"
   ]
  },
  {
   "cell_type": "code",
   "execution_count": 30,
   "metadata": {},
   "outputs": [
    {
     "output_type": "stream",
     "name": "stdout",
     "text": [
      "Hello world\nWyrz\n"
     ]
    }
   ],
   "source": [
    "#zamienia wybrany substring na inny\n",
    "print(\"Hello ME\".replace(\"ME\", \"world\")) \n",
    "x='Wyraz'.replace('a','')\n",
    "print(x)"
   ]
  },
  {
   "cell_type": "code",
   "execution_count": 35,
   "metadata": {},
   "outputs": [
    {
     "output_type": "stream",
     "name": "stdout",
     "text": [
      "True\nTrue\n"
     ]
    }
   ],
   "source": [
    "#sprawdza czy string zaczyna z wybranym substringiem\n",
    "print(\"This is a sentence.\".startswith(\"This\")) \n",
    "x='0xf16b'.startswith('0x')\n",
    "print(x)"
   ]
  },
  {
   "cell_type": "code",
   "execution_count": 36,
   "metadata": {},
   "outputs": [
    {
     "output_type": "stream",
     "name": "stdout",
     "text": [
      "True\nTrue\n"
     ]
    }
   ],
   "source": [
    "#Sprawdza czy string konczy z wybranym substringiem\n",
    "print(\"This is a sentence.\".endswith(\"sentence.\"))\n",
    "x='0x16ff'.endswith('6ff')\n",
    "print(x)"
   ]
  },
  {
   "cell_type": "code",
   "execution_count": 37,
   "metadata": {},
   "outputs": [
    {
     "output_type": "stream",
     "name": "stdout",
     "text": [
      "THIS IS A SENTENCE.\nan all caps sentence\n"
     ]
    }
   ],
   "source": [
    "#wszystko CAPS LOCK\n",
    "print(\"This is a sentence.\".upper())\n",
    "#wszystko malymi literami\t\n",
    "print(\"AN ALL CAPS SENTENCE\".lower())"
   ]
  },
  {
   "cell_type": "code",
   "execution_count": 41,
   "metadata": {},
   "outputs": [
    {
     "output_type": "stream",
     "name": "stdout",
     "text": [
      "['spam', 'eggs', 'ham']\n['Te', 'dane', 'są', 'rozdzielone']\n['', 'PA', 'SS', 'WO', 'RD']\n"
     ]
    }
   ],
   "source": [
    "#oddzielenie wyrazow wybranym stringiem\n",
    "print(\"spam, eggs, ham\".split(\", \"))\n",
    "x='Te dane są rozdzielone'.split(' ')\n",
    "print(x)\n",
    "x='|PA|SS|WO|RD'.split('|')\n",
    "print(x)"
   ]
  },
  {
   "cell_type": "code",
   "execution_count": 104,
   "metadata": {},
   "outputs": [
    {
     "output_type": "stream",
     "name": "stdout",
     "text": [
      "Adam i Ewa To pierwsi ludzie.\nAdamiEwaTo pierwsi ludzie.\nAdam i Ewa to pierwsi ludzie\nAdam i Ewa\n"
     ]
    }
   ],
   "source": [
    "#Wyświetlanie zmiennej w stringu \n",
    "x='Adam'\n",
    "y='Ewa'\n",
    "print(x,'i',y,'To pierwsi ludzie.')\n",
    "print(x+'i'+y+'To pierwsi ludzie.')     #W tym przypadku trzeba pamietać o dodaniu recznie spacji przed lub po wyrazach \n",
    "print(f'{x} i {y} to pierwsi ludzie')   #metoda ta pozwala na najwięcej kontroli (według mnie)\n",
    "x=f'{x} i {y}'\n",
    "print(x)\n"
   ]
  },
  {
   "cell_type": "code",
   "execution_count": 53,
   "metadata": {},
   "outputs": [
    {
     "output_type": "stream",
     "name": "stdout",
     "text": [
      "1 2\n3\n12\n12\n3\n"
     ]
    }
   ],
   "source": [
    "x=1\n",
    "y=2\n",
    "print(x,y)\n",
    "print(x+y)                              #niebezpieczne jak masz liczby,ponieważ chce je domyślnie dodawać,więc trzeba czasami \n",
    "print(str(x)+str(y))                    #podawać str(x)+ str(y)\n",
    "print(f'{x}{y}')\n",
    "print(f'{x+y}')"
   ]
  },
  {
   "cell_type": "code",
   "execution_count": 55,
   "metadata": {},
   "outputs": [],
   "source": [
    "#Funkcje dla liczb"
   ]
  },
  {
   "cell_type": "code",
   "execution_count": 58,
   "metadata": {},
   "outputs": [
    {
     "output_type": "stream",
     "name": "stdout",
     "text": [
      "0\n-4\n"
     ]
    }
   ],
   "source": [
    "#wyciaga najmniejsza liczbe\n",
    "print(min(1, 2, 3, 4, 0, 2, 1)) \n",
    "x=min([-2,1,15,-4,23])\n",
    "print(x)"
   ]
  },
  {
   "cell_type": "code",
   "execution_count": 61,
   "metadata": {},
   "outputs": [
    {
     "output_type": "stream",
     "name": "stdout",
     "text": [
      "9\n23\n"
     ]
    }
   ],
   "source": [
    " #wyciaga najwieksza liczbe\n",
    " print(max(1, 4, 9, 2, 5, 6, 8))\n",
    " x=max([-2,1,15,-4,23])\n",
    " print(x)"
   ]
  },
  {
   "cell_type": "code",
   "execution_count": 62,
   "metadata": {},
   "outputs": [
    {
     "output_type": "stream",
     "name": "stdout",
     "text": [
      "99\n42\n"
     ]
    }
   ],
   "source": [
    "#odleglosc od zera\n",
    "print(abs(-99)) \n",
    "print(abs(42))"
   ]
  },
  {
   "cell_type": "code",
   "execution_count": 64,
   "metadata": {},
   "outputs": [
    {
     "output_type": "stream",
     "name": "stdout",
     "text": [
      "15\n"
     ]
    }
   ],
   "source": [
    "#wyswietla sume liczb \n",
    "print(sum([1, 2, 3, 4, 5]))"
   ]
  },
  {
   "cell_type": "code",
   "execution_count": 67,
   "metadata": {},
   "outputs": [
    {
     "output_type": "stream",
     "name": "stdout",
     "text": [
      "4.85\n4.12784\n"
     ]
    }
   ],
   "source": [
    "#zaokragla do liczby miejsc po przecinku podanej\n",
    "print(round(4.853444,2))\n",
    "x=4.1278397812378912\n",
    "print(round(x,6))"
   ]
  },
  {
   "cell_type": "code",
   "execution_count": 69,
   "metadata": {},
   "outputs": [],
   "source": [
    "#Mniej spotykane operatory i możliwości "
   ]
  },
  {
   "cell_type": "code",
   "execution_count": 72,
   "metadata": {},
   "outputs": [
    {
     "output_type": "stream",
     "name": "stdout",
     "text": [
      "1\nLogout\n"
     ]
    }
   ],
   "source": [
    "#pozwalaja zmniejszyc ilosc kodu,ale zmniejszaja czytelnosc\n",
    "x = 7\n",
    "y = 1 if x >= 5 else 42\t\t\n",
    "print(y)\n",
    "x  = 1\n",
    "y = \"Logout\" if x == 1 else \"Login\"\n",
    "print(y)"
   ]
  },
  {
   "cell_type": "code",
   "execution_count": 73,
   "metadata": {},
   "outputs": [],
   "source": [
    "#DODATKOWE ZASTOSOWANIA DLA ELSE"
   ]
  },
  {
   "cell_type": "code",
   "execution_count": 74,
   "metadata": {},
   "outputs": [
    {
     "output_type": "stream",
     "name": "stdout",
     "text": [
      "The loop finished normally\n"
     ]
    }
   ],
   "source": [
    "for i in range(10):\t\t\t                        #wykona sie nasze ELSE, jezeli np. petla WHILE/FOR zostanie zakonczona bez break\n",
    "\tif i == 999:\n",
    "\t\tprint('The loop finished abnormally')\n",
    "\t\tbreak\t\t                                #jak break wywola,to program skonczy przedwczesnie,wiec ELSE nie wykona\n",
    "else:\t                                            #nasze ELSE mozna uznac jako THEN...bo wykonuje po poprawnym ukonczeniu petli\n",
    "   print(\"The loop finished normally\")\t\n",
    "\n"
   ]
  },
  {
   "cell_type": "code",
   "execution_count": 76,
   "metadata": {},
   "outputs": [
    {
     "output_type": "stream",
     "name": "stdout",
     "text": [
      "Calculation: 1/2\n0.5\nDivision succeeded.\n\nCalculation: 1/0\nError: Divide by zero.\n"
     ]
    }
   ],
   "source": [
    "#ELSE zostanie wykonane z TRY\\EXCEPT w przypadku, jezeli TRY nie bedzie konczyc bledem\n",
    "print('Calculation: 1/2')\t\t\n",
    "try:\n",
    "    print(1/2)\t\t\t\t\n",
    "except ZeroDivisionError:\n",
    "    print('Error: Divide by zero.')\n",
    "else:\n",
    "    print('Division succeeded.')\t\n",
    "print('')\n",
    "print('Calculation: 1/0')\t\t\n",
    "try:\n",
    "    print(1/0)\n",
    "except ZeroDivisionError:\n",
    "    print('Error: Divide by zero.')\t\n",
    "else:\n",
    "    print('Division succeeded.')\n"
   ]
  },
  {
   "cell_type": "code",
   "execution_count": 77,
   "metadata": {},
   "outputs": [],
   "source": [
    "# Typy struktur"
   ]
  },
  {
   "cell_type": "code",
   "execution_count": 95,
   "metadata": {},
   "outputs": [
    {
     "output_type": "stream",
     "name": "stdout",
     "text": [
      "33\n[[1, 2], [3, 4], [5, 6]]\n[5, 6]\n6\n<class 'list'>\nTrue\n"
     ]
    }
   ],
   "source": [
    "#zwyczajna tabela dajaca mozliwosc zapisu,zmiany i odczytu wartosci\n",
    "x = [55, 44, 33, 22, 11]                        #Wartosci w tabeli są numerowane od 0 do dlugosci(x)-1\n",
    "print(x[2])                                     #Wyswietlenie 3 pozycji tabeli x\n",
    "x=[[1,2],[3,4],[5,6]]                           #Tablica zawierajaca inne  tablice\n",
    "print(x)                                        #Wyswietlenie calej tablicy\n",
    "print(x[2])                                     #Wyswietlenie trzeciej tablicy z tablicy x\n",
    "print(x[2][1])                                  #Wyswietlenie z trzeciej tablicy drugiej pozycji\n",
    "x=[]                                            #Deklaracja, ze x to tablica\n",
    "print(type(x))                                  #Wyświetla typ zmiennej x (dla bardziej skomplikowanych używać isinstance(x,list))\n",
    "x=list()                                        #Druga opcja deklarowania x jako tablicy\n",
    "print(isinstance(x,list))                       #Zwraca True lub False w  zależności czy zmienna jest tym o co pytamy"
   ]
  },
  {
   "cell_type": "code",
   "execution_count": 103,
   "metadata": {},
   "outputs": [
    {
     "output_type": "stream",
     "name": "stdout",
     "text": [
      "Wszystkie wieksze niz 5\nConajmniej jedna jest parzysta\nDla pozycji 0 liczba: 125\nDla pozycji 1 liczba: 6\nDla pozycji 2 liczba: 13\nDla pozycji 3 liczba: 15\nDla pozycji 4 liczba: 667\n[('A', 'B', 'C'), ('A', 'C', 'B'), ('B', 'A', 'C'), ('B', 'C', 'A'), ('C', 'A', 'B'), ('C', 'B', 'A')]\n[('A', 0), ('A', 1), ('B', 0), ('B', 1), ('C', 0), ('C', 1)]\n"
     ]
    }
   ],
   "source": [
    "#Funkcje ogólne dlas list\n",
    "x=[125,6,13,15,667]\n",
    "if all([i > 5 for i in x]):                     #jezeli wszystkie wyrazy listy spelniaja warunek oddaje \"TRUE\"/\"FALSE\"\n",
    "\tprint(\"Wszystkie wieksze niz 5\")\n",
    "\n",
    "if any([i % 2 == 0 for i in x]):                #jezeli jakikolwiek wyraz listy spenia warunek oddaje \"TRUE\"/\"FALSE\"\n",
    "\tprint(\"Conajmniej jedna jest parzysta\")\n",
    "\n",
    "for i,liczba in enumerate(x):                   #przechodzi przez wszystkie obiekty w liscie i rownoczesnie przechowuje ich pozycje\n",
    "\tprint(f'Dla pozycji {i} liczba: {liczba}')\n",
    "\n",
    "from itertools import product, permutations\n",
    "\n",
    "letters = ('A','B','C')\n",
    "print(list(permutations(letters)))\t            #wyswietla wszystkie kombinacje obiektów\n",
    "print(list(product(letters, range(2))))         #powtarza obiekty do range() i przypisuje w liscie\n"
   ]
  },
  {
   "cell_type": "code",
   "execution_count": 106,
   "metadata": {},
   "outputs": [
    {
     "output_type": "stream",
     "name": "stdout",
     "text": [
      "[4, 9, 16, 25]\n[9, 16, 25, 36, 49]\n[0]\n[0, 1, 4, 9, 16, 25, 36]\n[49, 64, 81]\n[0, 4, 16, 36, 64]\n[4, 25]\n[1, 4, 9, 16, 25, 36, 49, 64]\n16ffb\n"
     ]
    }
   ],
   "source": [
    "#wycinki list pozwalaja dokladniej wprowadzac jaki zakres danych chcemy pozyskac\n",
    "x = [0, 1, 4, 9, 16, 25, 36, 49, 64, 81]\n",
    "print(x[2:6])                               #Podany zakres wyrazow to 2-5\n",
    "print(x[3:8])                               #Podany zakres wyrazow to 3-7\n",
    "print(x[0:1])                               #Podany zakres wyrazow to wyraz 0\n",
    "print(x[:7])                                #Podany zakres wyrazow to 0-6\n",
    "print(x[7:])                                #Podany zakres wyrazow to 7-(koniec listy)\n",
    "print(x[::2])                               #Przeskakuje o 2 od 0-(koniec listy)\n",
    "print(x[2:8:3])                             # przeskakuje o 3 od 2-7\n",
    "print(x[1:-1])                              # zakres to od 1 do (koniec listy -1) * przy podaniu [-] porusza od konca tabeli\n",
    "x='0x16ffb'\n",
    "print(x[2:])                                #pozwoliło nam prosto pozbyć przedrostka '0x'\n"
   ]
  },
  {
   "cell_type": "code",
   "execution_count": 110,
   "metadata": {},
   "outputs": [
    {
     "output_type": "stream",
     "name": "stdout",
     "text": [
      "[0, 1, 8, 27, 64]\n[0, 4, 16, 36, 64]\n[0, 0, 1, 0]\n"
     ]
    }
   ],
   "source": [
    "#LIST COMPREHENSIONS pozwalaja tworzyc szybko listy ktorych zawartosc podaza za prostą regule\n",
    "x = [i**3 for i in range(5)]                        #liczby w przedziale 0-4 do potegi 3\n",
    "print(x)\n",
    "y=[i**2 for i in range(10) if i**2 % 2 == 0]        #liczby w przedziale 0-9 do kwadratu,ktore sa parzyste \n",
    "print(y) \n",
    "x=[12,34,63,66]\n",
    "x=[i%2 for i in x]                                  #w miejsce x zapisuje wyniki modulo 2 dla każdej pozycji z x\n",
    "print(x)"
   ]
  },
  {
   "cell_type": "code",
   "execution_count": 1,
   "metadata": {},
   "outputs": [
    {
     "output_type": "stream",
     "name": "stdout",
     "text": [
      "24\n{'Dave': 24, 'Mary': 42, 'John': 58, 'Bob': 46}\nFalse\n"
     ]
    }
   ],
   "source": [
    "#Słownik (eng. Dictionary)\n",
    "#slownik w ktorym przypisujemy wartosci do danych. Mozna dodawac,zmieniac i zapisywac wartosci\n",
    "x = {\"Dave\": 24, \"Mary\": 42, \"John\": 58} \n",
    "print(x[\"Dave\"])                        #Wyświetla wartość dla określonego klucza\n",
    "x['Bob']=46                             #Pozwala dodać pozycję przez podanie klucza i przypisanie dla niego wartości\n",
    "print(x)                                #Wyświetla cały słownik\n",
    "print(\"Mike\" in x)                      #Zwraca True lub False w zależności czy występuje klucz"
   ]
  },
  {
   "cell_type": "code",
   "execution_count": null,
   "metadata": {},
   "outputs": [],
   "source": []
  }
 ]
}