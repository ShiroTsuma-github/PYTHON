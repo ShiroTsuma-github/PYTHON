{
 "cells": [
  {
   "cell_type": "code",
   "execution_count": 30,
   "metadata": {},
   "outputs": [],
   "source": [
    "import numpy as np\n",
    "import matplotlib.pyplot as plt\n",
    "import math\n"
   ]
  },
  {
   "cell_type": "code",
   "execution_count": null,
   "metadata": {},
   "outputs": [],
   "source": [
    "A = [\n",
    "     [1, -1, -1, -1],\n",
    "     [1, -1, 1, 1],\n",
    "     [1, 1, -1, 1],\n",
    "     [1, 1, 1, 1]]\n"
   ]
  },
  {
   "cell_type": "code",
   "execution_count": null,
   "metadata": {},
   "outputs": [],
   "source": [
    "\n",
    "def getPerceptronAns(values: list) -> int:\n",
    "    S = sum([values[j] * W[j] for j in range(3)])\n",
    "    Sig = 0\n",
    "    if S > 0:\n",
    "        Sig = 1\n",
    "    else:\n",
    "        Sig = -1\n",
    "    return (Sig, S)"
   ]
  },
  {
   "cell_type": "code",
   "execution_count": null,
   "metadata": {},
   "outputs": [],
   "source": [
    "#---- ustalenie poczatkowych wartosci wag\n",
    "W=[0, 0, 0]\n",
    "#---- proces trenowania\n",
    "print(W)\n",
    "Zmiana = 1\n",
    "\n",
    "while (Zmiana == 1):\n",
    "    Zmiana = 0\n",
    "    for i in range(0, 4):\n",
    "        Sig, S = getPerceptronAns(A[i])\n",
    "        if (Sig > 0 and A[i][3] == 1) or (Sig < 0 and A[i][3] == -1):\n",
    "            W = W\n",
    "        else:\n",
    "            Zmiana = 1\n",
    "            if S != 0:\n",
    "                for j in range(0, 3):\n",
    "                    W[j] = W[j] + 0.5 * (A[i][3] - Sig) * A[i][j]\n",
    "        if S == 0:\n",
    "            Zmiana = 1\n",
    "            for j in range(0, 3):\n",
    "                W[j] = W[j] + A[i][3] * A[i][j]\n",
    "        print(W)\n",
    "    break\n"
   ]
  },
  {
   "cell_type": "code",
   "execution_count": null,
   "metadata": {},
   "outputs": [],
   "source": [
    "\n",
    "for i in range(0, 4):\n",
    "    if A[i][3] == 1:\n",
    "        plt.plot(A[i][1], A[i][2], 'ko:')\n",
    "    else:\n",
    "        plt.plot(A[i][1], A[i][2], 'r+:')\n",
    "plt.axis([-2, 2, -2, 2])\n",
    "\n",
    "#---- wykreslenie otrzymanej linii podzialu\n",
    "k = -2\n",
    "XX = np.zeros((401))\n",
    "YY = np.zeros((401))\n",
    "for i in range(0, 401):\n",
    "    XX[i] = k\n",
    "    YY[i] = -( (W[1] / W[2]) * k) - (W[0] * 1) / W[2]\n",
    "    k += 0.01\n",
    "plt.plot(XX, YY)\n",
    "\n"
   ]
  },
  {
   "cell_type": "code",
   "execution_count": null,
   "metadata": {},
   "outputs": [],
   "source": [
    "W\n"
   ]
  },
  {
   "cell_type": "code",
   "execution_count": null,
   "metadata": {},
   "outputs": [],
   "source": [
    "test = input(\"Podaj wartosci wejsciowe [Example: 1 -1]: \")\n",
    "test = test.split()\n",
    "test.insert(0, 1)\n",
    "test = [int(i) for i in test]\n",
    "print(getPerceptronAns(test)[0])"
   ]
  },
  {
   "cell_type": "code",
   "execution_count": null,
   "metadata": {},
   "outputs": [],
   "source": [
    "A = [\n",
    "     [1, -1, -1, -1, -1],\n",
    "     [1, -1, -1, 1, -1],\n",
    "     [1, -1, 1, -1, -1],\n",
    "     [1, -1, 1, 1, -1],\n",
    "     [1, 1, -1, -1, -1],\n",
    "     [1, 1, -1, 1, 1],\n",
    "     [1, 1, 1, -1, -1],\n",
    "     [1, 1, 1, 1, -1]]\n",
    "\n",
    "lenX = len(A[0])\n",
    "lenY = len(A)"
   ]
  },
  {
   "cell_type": "code",
   "execution_count": null,
   "metadata": {},
   "outputs": [],
   "source": [
    "#---- ustalenie poczatkowych wartosci wag\n",
    "W=[0 for _ in range(lenX - 1)]\n",
    "#---- proces trenowania\n",
    "print(W)"
   ]
  },
  {
   "cell_type": "code",
   "execution_count": null,
   "metadata": {},
   "outputs": [],
   "source": [
    "Zmiana = 1\n",
    "while (Zmiana == 1):\n",
    "    Zmiana = 0\n",
    "    for i in range(lenY):\n",
    "        Sig, S = getPerceptronAns(A[i])\n",
    "        if (Sig > 0 and A[i][lenX - 1] == 1) or (Sig < 0 and A[i][lenX - 1] == -1):\n",
    "            W = W\n",
    "        else:\n",
    "            Zmiana = 1\n",
    "            if S != 0:\n",
    "                for j in range(len(W)):\n",
    "                    W[j] = W[j] + 0.5 * (A[i][lenX - 1] - Sig) * A[i][j]\n",
    "        if S == 0:\n",
    "            Zmiana = 1\n",
    "            for j in range(len(W)):\n",
    "                W[j] = W[j] + A[i][lenX - 1] * A[i][j]\n",
    "        print(W)\n",
    "    break"
   ]
  },
  {
   "attachments": {
    "image.png": {
     "image/png": "[encoded data removed]"
    }
   },
   "cell_type": "markdown",
   "metadata": {},
   "source": [
    "![image.png](attachment:image.png)"
   ]
  },
  {
   "cell_type": "code",
   "execution_count": null,
   "metadata": {},
   "outputs": [],
   "source": [
    "S3 = U1 * W[1] + U2 * W[2] + W[0]\n",
    "S4 = U1 * W[1] + U2 * W[2] + W[0]\n",
    "U3 = 1 / (1 + math.exp(-S3))\n",
    "U4 = 1 / (1 + math.exp(-S4))\n",
    "S5 = U3 * W[3] + U4 * W[4] + W[0]\n",
    "U5 = 1 / (1 + math.exp(-S5))"
   ]
  },
  {
   "cell_type": "code",
   "execution_count": null,
   "metadata": {},
   "outputs": [],
   "source": [
    "for i in range(lenX):\n",
    "    if A[i][lenX - 1] == 1:\n",
    "        plt.plot(A[i][1], A[i][2], 'ko:')\n",
    "    else:\n",
    "        plt.plot(A[i][1], A[i][2], 'r+:')\n",
    "plt.axis([-2, 2, -2, 2])\n",
    "\n",
    "k = -2\n",
    "XX = np.zeros((401))\n",
    "YY = np.zeros((401))\n",
    "for i in range(0, 401):\n",
    "    XX[i] = k\n",
    "    YY[i] = -( (W[1] / W[2]) * k) - (W[0] * 1) / W[2]\n",
    "    k += 0.01\n",
    "plt.plot(XX, YY)\n"
   ]
  },
  {
   "cell_type": "code",
   "execution_count": null,
   "metadata": {},
   "outputs": [],
   "source": [
    "W"
   ]
  },
  {
   "cell_type": "code",
   "execution_count": null,
   "metadata": {},
   "outputs": [],
   "source": [
    "test = input(\"Podaj wartosci wejsciowe [Example: -1 1 1]: \")\n",
    "test = test.split()\n",
    "test.insert(0, 1)\n",
    "test = [int(i) for i in test]\n",
    "print(getPerceptronAns(test))\n"
   ]
  },
  {
   "cell_type": "code",
   "execution_count": 26,
   "metadata": {},
   "outputs": [
    {
     "name": "stdout",
     "output_type": "stream",
     "text": [
      "[0, 0, 0]\n",
      "Wk:  [0, 0, 0]\n",
      "1 0\n",
      "[-1, 1, 1]\n",
      "[0.0, 0.0, 2.0]\n",
      "[1.0, 1.0, 1.0]\n",
      "[0.0, 0.0, 0.0]\n",
      "Wk:  [0, 0, 0]\n",
      "1 1\n",
      "[-1.0, -0.9, -0.9]\n",
      "Wk:  [-1.0, -0.9, -0.9]\n",
      "2 2\n",
      "[-1.0, -0.9, -0.9]\n",
      "Wk:  [-1.0, -0.9, -0.9]\n",
      "3 3\n",
      "[-1.0, -0.9, -0.9]\n",
      "Wk:  [-1.0, -0.9, -0.9]\n",
      "4 4\n",
      "[-1.0, -0.9, -0.9]\n",
      "Wk:  [-1.0, -0.9, -0.9]\n",
      "5 5\n",
      "[-1.0, -0.9, -0.9]\n",
      "[0.0, -1.7000000000000002, -0.09999999999999998]\n",
      "1 5\n",
      "[0.0, -1.7000000000000002, -0.09999999999999998]\n",
      "[1.0, -0.9000000000000001, -0.9]\n",
      "-1\n",
      "[-1.0, -0.9, -0.9] [1.0, -0.9000000000000001, -0.9]\n"
     ]
    },
    {
     "data": {
      "image/png": "[encoded data removed]",
      "text/plain": [
       "<Figure size 432x288 with 1 Axes>"
      ]
     },
     "metadata": {
      "needs_background": "light"
     },
     "output_type": "display_data"
    }
   ],
   "source": [
    "# -*- coding: utf-8 -*-\n",
    "\"\"\"\n",
    "Created on Mon May 15 10:41:36 2023\n",
    "\n",
    "@author: Studia\n",
    "\"\"\"\n",
    "\n",
    "import numpy as np\n",
    "import matplotlib.pyplot as plt\n",
    "\n",
    "\n",
    "def getPerceptronAns(values: list) -> int:\n",
    "    S = sum([values[j] * W[j] for j in range(3)])\n",
    "    Sig = 0\n",
    "    if S > 0:\n",
    "        Sig = 1\n",
    "    else:\n",
    "        Sig = -1\n",
    "    return (Sig, S)\n",
    "\n",
    "\n",
    "\n",
    "A = [\n",
    "     [1, -1, -1, -1],\n",
    "     [1, -1, 1, 1],\n",
    "     [1, 1, -1, 1],\n",
    "     [1, 1, 1, -1],\n",
    "     [1, 0.9, 0.9, -1],\n",
    "     [1, 0.9, 0.8, -1],\n",
    "     [1, 0.8, 0.9, -1],\n",
    "     [1, 0.95, 0.95, -1],\n",
    "     [1, 0.95, 0.9, -1],\n",
    "     [1, -0.8, 0.8, 1],\n",
    "     [1, -0.85, 0.9, 1],\n",
    "     [1, 0.8, -0.8, 1]]\n",
    "\n",
    "lenX = len(A[0])\n",
    "lenY = len(A)\n",
    "\n",
    "for i in range(lenY):\n",
    "    if A[i][lenX - 1] == 1:\n",
    "        plt.plot(A[i][1], A[i][2], 'ko:')\n",
    "    else:\n",
    "        plt.plot(A[i][1], A[i][2], 'r+:')\n",
    "plt.axis([-2, 2, -2, 2])\n",
    "\n",
    "#---- ustalenie poczatkowych wartosci wag\n",
    "W=[0 for _ in range(lenX - 1)]\n",
    "Wk = W.copy()\n",
    "WkIter = -1\n",
    "WIter = 0\n",
    "#---- proces trenowania\n",
    "print(W)\n",
    "\n",
    "\n",
    "Zmiana = 1\n",
    "while (Zmiana == 1):\n",
    "    Zmiana = 0\n",
    "    for i in range(lenY):\n",
    "        Sig, S = getPerceptronAns(A[i])\n",
    "        if (Sig > 0 and A[i][lenX - 1] == 1) or (Sig < 0 and A[i][lenX - 1] == -1):\n",
    "            WIter += 1\n",
    "            if WIter > WkIter:\n",
    "                if Wk == W:\n",
    "                    WkIter += 1\n",
    "                else:\n",
    "                    Wk = W.copy()\n",
    "                    WkIter = WIter\n",
    "                print(\"Wk: \", Wk)\n",
    "            W = W\n",
    "            print(WIter, WkIter)\n",
    "        else:\n",
    "            WIter = 0\n",
    "            Zmiana = 1\n",
    "            if S != 0:\n",
    "                for j in range(len(W)):\n",
    "                    W[j] = W[j] + 0.5 * (A[i][lenX - 1] - Sig) * A[i][j]\n",
    "        if S == 0:\n",
    "            Zmiana = 1\n",
    "            for j in range(len(W)):\n",
    "                W[j] = W[j] + A[i][lenX - 1] * A[i][j]\n",
    "        print(W)\n",
    "    break\n",
    "#---- wykreslenie otrzymanej linii podzialu\n",
    "\n",
    "k = -2\n",
    "XX = np.zeros((401))\n",
    "YY = np.zeros((401))\n",
    "for i in range(0, 401):\n",
    "    XX[i] = k\n",
    "    YY[i] = -( (Wk[1] / Wk[2]) * k) - (Wk[0] * 1) / Wk[2]\n",
    "    k += 0.01\n",
    "plt.plot(XX, YY)\n",
    "for i in range(0, 401):\n",
    "    XX[i] = k\n",
    "    YY[i] = -( (W[1] / W[2]) * k) - (W[0] * 1) / W[2]\n",
    "    k += 0.01\n",
    "plt.plot(XX, YY)\n",
    "\n",
    "\n",
    "\n",
    "test = input(\"Podaj wartosci wejsciowe [Example: 1 -1]: \")\n",
    "test = test.split()\n",
    "test.insert(0, 1)\n",
    "test = [int(i) for i in test]\n",
    "print(getPerceptronAns(test)[0])\n",
    "print(Wk , W)\n",
    "\n",
    "\n"
   ]
  },
  {
   "cell_type": "code",
   "execution_count": 27,
   "metadata": {},
   "outputs": [],
   "source": [
    "A=np.zeros((4,4))\n",
    "A[0,0]=1; A[0,1]=0; A[0,2]=0; A[0,3]=0\n",
    "A[1,0]=1; A[1,1]=0; A[1,2]=1; A[1,3]=1\n",
    "A[2,0]=1; A[2,1]=1; A[2,2]=0; A[2,3]=1\n",
    "A[3,0]=1; A[3,1]=1; A[3,2]=1; A[3,3]=0"
   ]
  },
  {
   "cell_type": "code",
   "execution_count": 28,
   "metadata": {},
   "outputs": [],
   "source": [
    "Licz=0\n",
    "IleKrokow=50000\n",
    "blad = []\n",
    "\n",
    "W=np.zeros((9));S=np.zeros((3));U=np.zeros((3));F=np.zeros((3));d=np.zeros((3))\n",
    "#---- losowa inicjalizacja wag poczatkowych\n",
    "for i in range(0,9):\n",
    "    W[i]=np.random.rand()-0.5\n",
    "ro=0.2\n",
    "iteracja=0"
   ]
  },
  {
   "cell_type": "code",
   "execution_count": 31,
   "metadata": {},
   "outputs": [],
   "source": [
    "while (iteracja<IleKrokow):\n",
    "    iteracja=iteracja+1\n",
    "    #---- losowe wybieranie wektora trenujacego\n",
    "    i=np.random.randint(4)\n",
    "    #---- faza propagacji w przod - warstwa posrednia\n",
    "    S[0]=W[0]*A[i,0]+W[1]*A[i,1]+W[2]*A[i,2]\n",
    "    S[1]=W[3]*A[i,0]+W[4]*A[i,1]+W[5]*A[i,2]\n",
    "    U[0]=1/(1+math.exp(-S[0]))\n",
    "    U[1]=1/(1+math.exp(-S[1]))\n",
    "    #---- faza propagacji w przod - warstwa wyjsciowa\n",
    "    S[2]=W[6]*A[i,0]+W[7]*U[0]+W[8]*U[1]\n",
    "    U[2]=1/(1+math.exp(-S[2]))\n",
    "    #---- faza propagacji wstecz - warstwa wyjsciowa\n",
    "    F[2]=U[2]*(1-U[2])\n",
    "    d[2]=(A[i,3]-U[2])*F[2]\n",
    "    #---- faza propagacji wstecz - warstwa posrednia\n",
    "    F[0]=U[0]*(1-U[0])\n",
    "    d[0]=W[7]*d[2]*F[0]\n",
    "    F[1]=U[1]*(1-U[1])\n",
    "    d[1]=W[8]*d[2]*F[1]\n",
    "    #---- uaktualnienie wag - warstwa wyjsciowa\n",
    "    W[6]=W[6]+ro*d[2]*A[i,0]\n",
    "    W[7]=W[7]+ro*d[2]*U[0]\n",
    "    W[8]=W[8]+ro*d[2]*U[1]\n",
    "    \n",
    "    #---- uaktualnienie wag - warstwa posrednia\n",
    "    W[0]=W[0]+ro*d[0]*A[i,0]\n",
    "    W[1]=W[1]+ro*d[0]*A[i,1]\n",
    "    W[2]=W[2]+ro*d[0]*A[i,2]\n",
    "    W[3]=W[3]+ro*d[1]*A[i,0]\n",
    "    W[4]=W[4]+ro*d[1]*A[i,1]\n",
    "    W[5]=W[5]+ro*d[1]*A[i,2]\n",
    "    if iteracja % 100 == 0:\n",
    "        blad.append(A[i, 3] - U[2])"
   ]
  },
  {
   "cell_type": "code",
   "execution_count": 51,
   "metadata": {},
   "outputs": [
    {
     "data": {
      "text/plain": [
       "(-0.5, 1.5, -0.5, 1.5)"
      ]
     },
     "execution_count": 51,
     "metadata": {},
     "output_type": "execute_result"
    },
    {
     "data": {
      "image/png": "[encoded data removed]",
      "text/plain": [
       "<Figure size 432x288 with 1 Axes>"
      ]
     },
     "metadata": {
      "needs_background": "light"
     },
     "output_type": "display_data"
    }
   ],
   "source": [
    "\n",
    "for i in range(0,4):\n",
    "    if A[i,3]==1:\n",
    "        plt.plot(A[i,1],A[i,2],'ko:')\n",
    "    else:\n",
    "        plt.plot(A[i,1],A[i,2],'r+:')\n",
    "plt.axis([-0.5,1.5,-0.5,1.5])\n",
    "\n",
    "XX=np.zeros((401))\n",
    "YY=np.zeros((401))\n",
    "k=0\n",
    "for i in np.arange(-2,2.01,0.01):\n",
    "    XX[k]=i\n",
    "    YY[k]=-((W[1]/W[2])*i)-(W[0]*1)/W[2]\n",
    "    k=k+1\n",
    "plt.plot(XX,YY)\n",
    "#---- wykreslenie otrzymanej linii podzialu (neuron 2)\n",
    "k=0\n",
    "for i in np.arange(-2,2.01,0.01):\n",
    "    XX[k]=i\n",
    "    YY[k]=-((W[4]/W[5])*i)-(W[3]*1)/W[5]\n",
    "    k=k+1\n",
    "plt.plot(XX,YY)\n",
    "plt.axis([-0.5,1.5,-0.5,1.5])\n",
    "\n"
   ]
  },
  {
   "cell_type": "code",
   "execution_count": 58,
   "metadata": {},
   "outputs": [
    {
     "name": "stdout",
     "output_type": "stream",
     "text": [
      "[1.0, 0.0]\n",
      "0.972873869296359\n"
     ]
    },
    {
     "data": {
      "image/png": "[encoded data removed]",
      "text/plain": [
       "<Figure size 432x288 with 1 Axes>"
      ]
     },
     "metadata": {
      "needs_background": "light"
     },
     "output_type": "display_data"
    }
   ],
   "source": [
    "poz = 4\n",
    "\n",
    "for i in range(0,4):\n",
    "    if A[i,3]==1:\n",
    "        plt.plot(A[i,1],A[i,2],'ko:')\n",
    "    else:\n",
    "        plt.plot(A[i,1],A[i,2],'r+:')\n",
    "plt.axis([-0.5,1.5,-0.5,1.5])\n",
    "\n",
    "XX=np.zeros((401))\n",
    "YY=np.zeros((401))\n",
    "k=0\n",
    "for i in np.arange(-2,2.01,0.01):\n",
    "    XX[k]=i\n",
    "    YY[k]=-((W[1]/W[2])*i)-(W[0]*1)/W[2]\n",
    "    k=k+1\n",
    "plt.plot(XX,YY)\n",
    "\n",
    "AX= []\n",
    "AY= []\n",
    "AC = []\n",
    "while True:\n",
    "    A = np.vstack([A, [1, 0, 0, 0]])\n",
    "    liczba = input(\"Podaj wartosc U1, U2 np. [2 0]: \")\n",
    "    liczba = liczba.split()\n",
    "    if liczba[0] == 'x' or liczba[0] == 'X' or len(liczba) != 2:\n",
    "        break\n",
    "    liczba = [float(l) for l in liczba]\n",
    "    print(liczba)\n",
    "    A[poz, 1] = liczba[0]\n",
    "    A[poz, 2] = liczba[1]\n",
    "    \n",
    "    S[0]=W[0]*A[poz,0]+W[1]*A[poz,1]+W[2]*A[poz,2]\n",
    "    S[1]=W[3]*A[poz,0]+W[4]*A[poz,1]+W[5]*A[poz,2]\n",
    "    U[0]=1/(1+math.exp(-S[0]))\n",
    "    U[1]=1/(1+math.exp(-S[1]))\n",
    "    #---- faza propagacji w przod - warstwa wyjsciowa\n",
    "    S[2]=W[6]*A[poz,0]+W[7]*U[0]+W[8]*U[1]\n",
    "    U[2]=1/(1+math.exp(-S[2]))\n",
    "    print(U[2])\n",
    "    \n",
    "    AX.append(liczba[0])\n",
    "    AY.append(liczba[1])\n",
    "    AC.append(round(U[2]))\n",
    "    # if round(U[2]) == 1:\n",
    "    #     plt.scatter(A[poz,1],A[poz,2])\n",
    "    # else:\n",
    "    #     plt.scatter(A[poz,1],A[poz,2])\n",
    "    # plt.scatter(liczba[0],liczba[1],'ko:' if round(U[2]) == 1 else 'r+:')\n",
    "    A[poz, 3] = U[2]\n",
    "    plt.pause(0.001)\n",
    "    poz += 1\n",
    "    \n"
   ]
  },
  {
   "cell_type": "code",
   "execution_count": 57,
   "metadata": {},
   "outputs": [
    {
     "data": {
      "image/png": "[encoded data removed]",
      "text/plain": [
       "<Figure size 432x288 with 1 Axes>"
      ]
     },
     "metadata": {
      "needs_background": "light"
     },
     "output_type": "display_data"
    }
   ],
   "source": [
    "\n",
    "XX=np.zeros((401))\n",
    "YY=np.zeros((401))\n",
    "k=0\n",
    "for i in np.arange(-2,2.01,0.01):\n",
    "    XX[k]=i\n",
    "    YY[k]=-((W[1]/W[2])*i)-(W[0]*1)/W[2]\n",
    "    k=k+1\n",
    "plt.plot(XX,YY)\n",
    "#---- wykreslenie otrzymanej linii podzialu (neuron 2)\n",
    "k=0\n",
    "for i in np.arange(-2,2.01,0.01):\n",
    "    XX[k]=i\n",
    "    YY[k]=-((W[4]/W[5])*i)-(W[3]*1)/W[5]\n",
    "    k=k+1\n",
    "plt.plot(XX,YY)\n",
    "plt.axis([-0.5,1.5,-0.5,1.5])\n",
    "\n",
    "for i in range(len(AX)):\n",
    "    if AC[i] == 1:\n",
    "        plt.scatter(AX[i],AY[i])\n",
    "    else:\n",
    "        plt.scatter(AX[i],AY[i])"
   ]
  },
  {
   "cell_type": "code",
   "execution_count": 37,
   "metadata": {},
   "outputs": [
    {
     "data": {
      "text/plain": [
       "[<matplotlib.lines.Line2D at 0x26f16030340>]"
      ]
     },
     "execution_count": 37,
     "metadata": {},
     "output_type": "execute_result"
    },
    {
     "data": {
      "image/png": "[encoded data removed]",
      "text/plain": [
       "<Figure size 432x288 with 1 Axes>"
      ]
     },
     "metadata": {
      "needs_background": "light"
     },
     "output_type": "display_data"
    }
   ],
   "source": [
    "\n",
    "plt.figure(3)\n",
    "plt.plot(range(len(blad)), blad)"
   ]
  }
 ],
 "metadata": {
  "kernelspec": {
   "display_name": "Python 3",
   "language": "python",
   "name": "python3"
  },
  "language_info": {
   "codemirror_mode": {
    "name": "ipython",
    "version": 3
   },
   "file_extension": ".py",
   "mimetype": "text/x-python",
   "name": "python",
   "nbconvert_exporter": "python",
   "pygments_lexer": "ipython3",
   "version": "3.8.1"
  },
  "orig_nbformat": 4
 },
 "nbformat": 4,
 "nbformat_minor": 2
}
