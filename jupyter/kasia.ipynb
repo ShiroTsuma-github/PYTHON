{
 "cells": [
  {
   "cell_type": "markdown",
   "metadata": {},
   "source": [
    "<style>  \n",
    "div {background-color:#330a16;color:white}\n",
    "h3 {color:white}\n",
    "a {color:aliceblue;}\n",
    "a:hover {color:#fc0349;}\n",
    "a.visited {color:#fc0349;}\n",
    "img {max-width:500px;max-height:250px;height:auto;width:auto;}\n",
    "span {display:right;}\n",
    "</style>\n",
    "<h3 id='top'>Szybki dostęp: </h3>\n",
    "<ol>\n",
    "<li><a href='#instalacja'>Instalacja</a></li>\n",
    "<li><a href='#struktura_pythona'>Struktura pythona</a></li>\n",
    "<li><a href='#typy_danych'>Podstawowe typy danych</a></li>\n",
    "<li><a href='#dek_zmiennych'>Deklaracja zmiennych</a></li>\n",
    "<li><a href='#odcz_danych'>Odczytywanie danych</a></li>\n",
    "<li><a href='#wys_danych'>Wyświetlanie danych</a></li>\n",
    "<li><a href='#ifstrukt'>Struktura IF | ELIF | ELSE</a></li>\n",
    "<li><a href='#forstrukt'>Struktura FOR</a></li>\n",
    "<li><a href='#whilestrukt'>Struktura WHILE </a></li>\n",
    "<li><a href='#op_war'>Operatory warunków</a></li>\n",
    "<li><a href='#zad0'>Zadanka (z1,z2)</a></li>\n",
    "<li><a href='#import'>Importowanie bibliotek</a></li>\n",
    "<li><a href='#op_list'>Operacje dla list</a></li>\n",
    "<ul>\n",
    "<li><a href='#l_dodaj'>Dodawanie</a></li>\n",
    "<li><a href='#l_przedluz'></a>Przedłużanie</li>\n",
    "<li><a href='#l_wsadz'>Wsadzanie</a></li>\n",
    "<li><a href='#l_usunr'>Usuwanie .remove()</a></li>\n",
    "<li><a href='#l_usunp'>Usuwanie .pop()</a></li>\n",
    "<li><a href='#l_odwroc'>Odwrócenie</a></li>\n",
    "<li><a href='#l_len'>Długość listy</a></li>\n",
    "<li><a href='#l_maxmin'></a>max | min</li>\n",
    "<li><a href='#l_count'>Zliczanie obiektu</a></li>\n",
    "<li><a href='#l_lacz'>Łączenie list</a></li>\n",
    "<li><a href='#l_index'>Index szukanej wartości</a></li>\n",
    "<li><a href='#l_sort'>sortowanie</a></li>\n",
    "</ul>\n",
    "<li><a href='#zad1'>Zadanka (z3,z4,z5,z6,z7)</a></li>\n",
    "<li><a href='#l_dod_f'>Dodatkowe funkcje dla list</a></li>\n",
    "<ul>\n",
    "<li><a href='#l_f_any'>Funkcja Any</a></li>\n",
    "<li><a href='#l_f_all'>Funkcja All</a></li>\n",
    "<li><a href='#l_f_enum'>Funkcja Enumerate (super przydatne)</a></li>\n",
    "<li><a href='#l_f_zip'>Funkcja Zip</a></li>\n",
    "</ul>\n",
    "<li><a href='#l_slice'>Slicowanie Tablic</a></li>\n",
    "<li><a href='#l_comp'>List Comprehension</a></li>\n",
    "<li><a href='#dict'>Zagłębienie w dictionary</a></li>\n",
    "<ul>\n",
    "    <li><a href='#dict_a_b'>Tworzenie | dodawanie [ ]</a></li>\n",
    "    <li><a href='#dict_a_up'>Tworzenie | dodawanie .update()</a></li>\n",
    "    <li><a href='#dict_a_keys'>Tworzenie | dodawanie .fromkeys()</a></li>\n",
    "    <li><a href='#dict_a_default'>Tworzenie | dodawanie .setdefault()</a></li>\n",
    "    <li><a href='#dict_o_b'>Pozyskiwanie wartości []</a></li>\n",
    "    <li><a href='#dict_o_get'>Pozyskiwanie wartości .get()</a></li>\n",
    "    <li><a href='#dict_o_kv'>Pozyskiwanie wartości .key() / .values()</a></li>\n",
    "    <li><a href='#dict_for'>Używanie dictionary z for</a></li>\n",
    "    <li><a href='#dict_r_pop'>Usuwanie .pop()</a></li>\n",
    "    <li><a href='#dict_r_popitem'>Usuwanie .popitem()</a></li>\n",
    "    <li><a href='#dict_clear'>Czyszczenie .clear()</a></li>\n",
    "</ul>\n",
    "<li><a href='#dict_problems'>Zastosowanie metod dict</a></li>\n",
    "<li><a href='#lambda'>Lambda</a></li>\n"
   ]
  },
  {
   "cell_type": "markdown",
   "metadata": {},
   "source": [
    "<style>  \n",
    "div {background-color:#093145;color:white}\n",
    "h3 {color:white}\n",
    "a {color:#1496BB}\n",
    "img {max-width:500px;max-height:250px;height:auto;width:auto;}\n",
    "span {position:absolute;right:1vw;font-size:150%;font-weight: bold;}\n",
    "span>a {color:aliceblue;}\n",
    "span>a:hover {color:#fc0349;}\n",
    "span>a.visited {color:#fc0349;}\n",
    "</style>\n",
    "<span><a href='#top'>↑TOP↑</a></span>\n",
    "<div id='instalacja'>\n",
    "<h3><b> w jaki sposób używać python: </b></h3>\n",
    "<ol> <li>Czysty python\n",
    "        <ul>\n",
    "            <li> VS Code </li>\n",
    "            <li><a href='https://www.onlinegdb.com/online_python_compiler'> Przeglądarka </a> </li>\n",
    "        </ul>\n",
    "    <li>Jupyter notebook\n",
    "        <ul>\n",
    "            <li>VS Code</li>\n",
    "            <li> <a href='https://mybinder.org/v2/gh/ipython/ipython-in-depth/HEAD?urlpath=tree/binder/Index.ipynb'> Przeglądarka </a> </li>\n",
    "        </ul>\n",
    "    </li>\n",
    "</ol>\n",
    "<h4>Instalacja:</h4>\n",
    "<ol>\n",
    "    <li>Instalacja<a href='https://code.visualstudio.com/download'> VS Code </a>(jak nie jest zainstalowane)  </li>\n",
    "    <li>Instalacja dodatku python</li> <img src='img/python-addon.png'> \n",
    "    <li>Pobranie interpetera <a href='https://www.python.org/downloads/'> python </a> </li>\n",
    "    <li>Weryfikacja instalacji pythona w cmd:  <i>py -3 --version </i></li>\n",
    "    <li>Dla ułatwienia życia można utworzyć główny folder w którym będą robione rzeczy z pythona</li>\n",
    "    <li>Wybranie interpretera w VS Code \n",
    "        <ul> \n",
    "            <li> W folderze należy wcisnąć <b>CTRL + Shift +P </b> </li>\n",
    "            <li> Należy wpisać Python: Select Interpreter i wybrać zalecaną opcję</li>\n",
    "        </ul>\n",
    "    </li>\n",
    "    <li> Tworzenie Debuga \n",
    "        <ul> \n",
    "            <li> W folderze należy wcisnąć <b>CTRL + F5</b> po czym wyskoczy okno: </li>\n",
    "            <img src='img/debug.png'>\n",
    "            <li> Należy wcisnąć <i>create a launch.json file</i>, po czym wybrać opcję <i>Python file</i>  </li>\n",
    "        </ul>\n",
    "    </li>\n",
    "    <li> Instalacja Jupyter w VS Code \n",
    "        <ul> \n",
    "            <li>Należy wybrać z paska bocznego opcję <i>Extensions</i> i wyszukać nasz dodatek, po instalacji można zacząć od razu pracę </li>\n",
    "            <img src='img/jupyter-addon.png'>\n",
    "            <li>Nowy notatnik będzie można tworzyć przez nadanie mu końcówki <i>.ipynb</i> lub używając skrótu <b>CTRL + Shift +P </b> i wyszukanie <i>Jupyter: Create new jupyter notebook</i> </li>\n",
    "        </ul>\n",
    "    </li>\n",
    "</ol>\n",
    "</div>"
   ]
  },
  {
   "cell_type": "markdown",
   "metadata": {},
   "source": [
    "<style>  \n",
    "div {background-color:#093145;color:white}\n",
    "h3 {color:white}\n",
    "a {color:#1496BB}\n",
    "img {max-width:500px;max-height:250px;height:auto;width:auto;}\n",
    "span {position:absolute;right:1vw;font-size:150%;font-weight: bold;}\n",
    "span>a {color:aliceblue;}\n",
    "span>a:hover {color:#fc0349;}\n",
    "span>a.visited {color:#fc0349;}\n",
    "</style>\n",
    "<span><a href='#top'>↑TOP↑</a></span>\n",
    "\n",
    "<div id='struktura_pythona'>\n",
    "<h4>  Pliki pythona kończą się <b>.py</b> </h2>\n",
    "<h3> Struktura kodu pythona:</h3>\n",
    "<ul>\n",
    "<li> Brak średników </li>\n",
    "</ul>\n",
    "</div>\n",
    "\n"
   ]
  },
  {
   "cell_type": "code",
   "execution_count": 1,
   "metadata": {},
   "outputs": [
    {
     "name": "stdout",
     "output_type": "stream",
     "text": [
      "test\n"
     ]
    }
   ],
   "source": [
    "print ('test')"
   ]
  },
  {
   "cell_type": "markdown",
   "metadata": {},
   "source": [
    "<style>  \n",
    "div {background-color:#093145;color:white}\n",
    "h3 {color:white}\n",
    "a {color:#1496BB}\n",
    "img {max-width:500px;max-height:250px;height:auto;width:auto;}\n",
    "</style>\n",
    "\n",
    "<div>\n",
    "<ul>\n",
    "<li>Zagnieżdżanie przez indentację (wcięcia)</li>\n",
    "</ul>\n",
    "</div>\n"
   ]
  },
  {
   "cell_type": "code",
   "execution_count": 2,
   "metadata": {},
   "outputs": [
    {
     "name": "stdout",
     "output_type": "stream",
     "text": [
      "x\n"
     ]
    }
   ],
   "source": [
    "def t():\n",
    "    print('x')\n",
    "    \n",
    "t()"
   ]
  },
  {
   "cell_type": "markdown",
   "metadata": {},
   "source": [
    "<style>  \n",
    "div {background-color:#093145;color:white}\n",
    "h3 {color:white}\n",
    "a {color:#1496BB}\n",
    "img {max-width:500px;max-height:250px;height:auto;width:auto;}\n",
    "</style>\n",
    "\n",
    "<div>\n",
    "<ul>\n",
    "<li>Uproszczony kod</li>\n",
    "</ul>\n",
    "</div>\n"
   ]
  },
  {
   "cell_type": "code",
   "execution_count": 3,
   "metadata": {},
   "outputs": [
    {
     "name": "stdout",
     "output_type": "stream",
     "text": [
      "x\n"
     ]
    }
   ],
   "source": [
    "print(\"x\")"
   ]
  },
  {
   "cell_type": "markdown",
   "metadata": {},
   "source": [
    "<style>  \n",
    "div {background-color:#093145;color:white}\n",
    "h3 {color:white}\n",
    "a {color:#1496BB}\n",
    "img {max-width:500px;max-height:250px;height:auto;width:auto;}\n",
    "</style>\n",
    "\n",
    "<div>\n",
    "Zamiast:\n",
    "\n",
    "</div>\n"
   ]
  },
  {
   "cell_type": "markdown",
   "metadata": {},
   "source": [
    "`#include <iostream>\n",
    "using namespace std;\n",
    "int main(){\n",
    "    cout<<\"x\";\n",
    "}`"
   ]
  },
  {
   "cell_type": "markdown",
   "metadata": {},
   "source": [
    "<style>  \n",
    "div {background-color:#093145;color:white}\n",
    "h3 {color:white}\n",
    "a {color:#1496BB}\n",
    "img {max-width:500px;max-height:250px;height:auto;width:auto;}\n",
    "span {position:absolute;right:1vw;font-size:150%;font-weight: bold;}\n",
    "span>a {color:aliceblue;}\n",
    "span>a:hover {color:#fc0349;}\n",
    "span>a.visited {color:#fc0349;}\n",
    "</style>\n",
    "<span><a href='#top'>↑TOP↑</a></span>\n",
    "<div id='typy_danych'>\n",
    "<h4>Podstawowe typy danych</h4>\n",
    "<ul> \n",
    "<li> int - przetrzymuje calkowite wartosci liczbowe\n",
    "<li> float - przetrzymuje wartosci liczbowe zmiennoprzecinkowe\n",
    "<li> str  - przetrzymuje tekst\n",
    "<li> list  - przetrzymuje wiele obiektow dowolnych typow. Pozwala na dodawanie | usuwanie | modyfikowanie\n",
    "<li> dict - przetrzymuje obiekty w formie klucz - wartość. Na podstawie klucza wyświetla przetrzymywaną wartość. Pozwala na dodawanie | usuwanie | modyfikowanie. Klucze są unikatowe\n",
    "<li> bool - Przetrzymuje wartość Prawda - Fałsz\n",
    "<li> set - Przetrzymuje wiele obiektów. Pozycje nie są indexowane, nie można zmieniać ich kolejności(sa posortowane) i nie pozwala na duplikaty. Można dodawać | usuwać\n",
    "<li> tuple - Przetrzymuje wiele obiektów, ale nie pozwala na modyfikowanie. Więc kolejność jest stała. <b>Nie można</b> dodawać | usuwać | modyfikować\n",
    "</ul>\n"
   ]
  },
  {
   "cell_type": "code",
   "execution_count": 4,
   "metadata": {},
   "outputs": [
    {
     "name": "stdout",
     "output_type": "stream",
     "text": [
      "64 <class 'int'>\n",
      "3.14 <class 'float'>\n",
      "abc <class 'str'>\n",
      "[12, 13, 14] <class 'list'>\n",
      "{1: 2, 2: 2} <class 'dict'>\n",
      "True <class 'bool'>\n",
      "{'b', 'a', 'c'} <class 'set'>\n",
      "(12, 13) <class 'tuple'>\n"
     ]
    }
   ],
   "source": [
    "x=64\n",
    "print(x,type(x))\n",
    "x=3.14\n",
    "print(x,type(x))\n",
    "x='abc'\n",
    "print(x,type(x))\n",
    "x=[12,13,14]\n",
    "print(x,type(x))\n",
    "x={1:2,2:2}\n",
    "print(x,type(x))\n",
    "x=True\n",
    "print(x,type(x))\n",
    "x={'b','a','c'}\n",
    "print(x,type(x))\n",
    "x=(12,13)\n",
    "print(x,type(x))"
   ]
  },
  {
   "cell_type": "markdown",
   "metadata": {},
   "source": [
    "<style>  \n",
    "div {background-color:#093145;color:white}\n",
    "h3 {color:white}\n",
    "a {color:#1496BB}\n",
    "img {max-width:500px;max-height:250px;height:auto;width:auto;}\n",
    "span {position:absolute;right:1vw;font-size:150%;font-weight: bold;}\n",
    "span>a {color:aliceblue;}\n",
    "span>a:hover {color:#fc0349;}\n",
    "span>a.visited {color:#fc0349;}\n",
    "</style>\n",
    "<span><a href='#top'>↑TOP↑</a></span>\n",
    "<h4 id='dek_zmiennych'>Deklaracja zmiennych</h4>\n",
    "<ul> \n",
    "<li> zmienna = dane\n",
    "<li> zmienna= typ(dane)\n",
    "<li> zmienna = typ()\n",
    "</ul>\n"
   ]
  },
  {
   "cell_type": "code",
   "execution_count": 5,
   "metadata": {},
   "outputs": [
    {
     "name": "stdout",
     "output_type": "stream",
     "text": [
      "12 <class 'int'>\n",
      "12.0 <class 'float'>\n",
      "[] <class 'list'>\n"
     ]
    }
   ],
   "source": [
    "x=12\n",
    "print(x,type(x))\n",
    "x=float(12)\n",
    "print(x,type(x))\n",
    "x=list()\n",
    "print(x,type(x))"
   ]
  },
  {
   "cell_type": "markdown",
   "metadata": {},
   "source": [
    "<style>  \n",
    "div {background-color:#093145;color:white}\n",
    "h3 {color:white}\n",
    "a {color:#1496BB}\n",
    "img {max-width:500px;max-height:250px;height:auto;width:auto;}\n",
    "span {position:absolute;right:1vw;font-size:150%;font-weight: bold;}\n",
    "span>a {color:aliceblue;}\n",
    "span>a:hover {color:#fc0349;}\n",
    "span>a.visited {color:#fc0349;}\n",
    "</style>\n",
    "<span><a href='#top'>↑TOP↑</a></span>\n",
    "<h4 id='odcz_danych'>Odczytywanie wprowadzonych danych</h4>\n",
    "<ul> \n",
    "<li> zmienna=input()\n",
    "<li> zmienna=input( \"Podaj zmienna:\" )\n",
    "<li> zmienna=typ( input() )\n",
    "</ul>\n"
   ]
  },
  {
   "cell_type": "code",
   "execution_count": 6,
   "metadata": {},
   "outputs": [
    {
     "name": "stdout",
     "output_type": "stream",
     "text": [
      " <class 'str'>\n",
      " <class 'str'>\n"
     ]
    },
    {
     "ename": "ValueError",
     "evalue": "invalid literal for int() with base 10: ''",
     "output_type": "error",
     "traceback": [
      "\u001b[1;31m---------------------------------------------------------------------------\u001b[0m",
      "\u001b[1;31mValueError\u001b[0m                                Traceback (most recent call last)",
      "\u001b[1;32m<ipython-input-6-ea7cb604b56e>\u001b[0m in \u001b[0;36m<module>\u001b[1;34m\u001b[0m\n\u001b[0;32m      3\u001b[0m \u001b[0mx\u001b[0m\u001b[1;33m=\u001b[0m\u001b[0minput\u001b[0m\u001b[1;33m(\u001b[0m\u001b[1;34m\"Podaj x: \"\u001b[0m\u001b[1;33m)\u001b[0m\u001b[1;33m\u001b[0m\u001b[1;33m\u001b[0m\u001b[0m\n\u001b[0;32m      4\u001b[0m \u001b[0mprint\u001b[0m\u001b[1;33m(\u001b[0m\u001b[0mx\u001b[0m\u001b[1;33m,\u001b[0m\u001b[0mtype\u001b[0m\u001b[1;33m(\u001b[0m\u001b[0mx\u001b[0m\u001b[1;33m)\u001b[0m\u001b[1;33m)\u001b[0m\u001b[1;33m\u001b[0m\u001b[1;33m\u001b[0m\u001b[0m\n\u001b[1;32m----> 5\u001b[1;33m \u001b[0mx\u001b[0m\u001b[1;33m=\u001b[0m\u001b[0mint\u001b[0m\u001b[1;33m(\u001b[0m\u001b[0minput\u001b[0m\u001b[1;33m(\u001b[0m\u001b[1;33m)\u001b[0m\u001b[1;33m)\u001b[0m\u001b[1;33m\u001b[0m\u001b[1;33m\u001b[0m\u001b[0m\n\u001b[0m\u001b[0;32m      6\u001b[0m \u001b[0mprint\u001b[0m\u001b[1;33m(\u001b[0m\u001b[0mx\u001b[0m\u001b[1;33m,\u001b[0m\u001b[0mtype\u001b[0m\u001b[1;33m(\u001b[0m\u001b[0mx\u001b[0m\u001b[1;33m)\u001b[0m\u001b[1;33m)\u001b[0m\u001b[1;33m\u001b[0m\u001b[1;33m\u001b[0m\u001b[0m\n",
      "\u001b[1;31mValueError\u001b[0m: invalid literal for int() with base 10: ''"
     ]
    }
   ],
   "source": [
    "x=input()\n",
    "print(x,type(x))\n",
    "x=input(\"Podaj x: \")\n",
    "print(x,type(x))\n",
    "x=int(input())\n",
    "print(x,type(x))"
   ]
  },
  {
   "cell_type": "markdown",
   "metadata": {},
   "source": [
    "\n",
    "<style>  \n",
    "div {background-color:#093145;color:white}\n",
    "h3 {color:white}\n",
    "a {color:#1496BB}\n",
    "img {max-width:500px;max-height:250px;height:auto;width:auto;}\n",
    "span {position:absolute;right:1vw;font-size:150%;font-weight: bold;}\n",
    "span>a {color:aliceblue;}\n",
    "span>a:hover {color:#fc0349;}\n",
    "span>a.visited {color:#fc0349;}\n",
    "</style>\n",
    "<span><a href='#top'>↑TOP↑</a></span>\n",
    "<h4 id='wys_danych'>Wyświetlanie danych</h4>\n",
    "<ul> \n",
    "<li> print( zmienna )\n",
    "<li> print( \"Twoja zmienna to:\", zmienna, \"i mozesz podawac kolejne\" )\n",
    "<li> print( f\"Twoja zmienna to {zmienna} i mozesz podawac kolejne\" )    <b>Zalecane</b>\n",
    "</ul>\n"
   ]
  },
  {
   "cell_type": "code",
   "execution_count": null,
   "metadata": {},
   "outputs": [
    {
     "name": "stdout",
     "output_type": "stream",
     "text": [
      "12\n",
      "Twoja zmienna to 12 i oddzielasz przecinkami\n",
      "Twoja zmienna to 12 i nastepne tez w klamrach\n"
     ]
    }
   ],
   "source": [
    "x=12\n",
    "print(x)\n",
    "print(\"Twoja zmienna to\",x,\"i oddzielasz przecinkami\")\n",
    "print(f'Twoja zmienna to {x} i nastepne tez w klamrach')"
   ]
  },
  {
   "cell_type": "markdown",
   "metadata": {},
   "source": [
    "<style>  \n",
    "div {background-color:#093145;color:white}\n",
    "h3 {color:white}\n",
    "a {color:#1496BB}\n",
    "img {max-width:500px;max-height:250px;height:auto;width:auto;}\n",
    "span {position:absolute;right:1vw;font-size:150%;font-weight: bold;}\n",
    "span>a {color:aliceblue;}\n",
    "span>a:hover {color:#fc0349;}\n",
    "span>a.visited {color:#fc0349;}\n",
    "</style>\n",
    "<span><a href='#top'>↑TOP↑</a></span>\n",
    "<div id='ifstrukt'>\n",
    "<h2>Warunki i pętle</h2>\n",
    "<h4>Struktura if | elif | else:</h4>\n",
    "<p>\n",
    "if warunek:<br>\n",
    "&emsp;rob cos 1<br>\n",
    "elif warunek2:<br>\n",
    "&emsp;rob cos 2<br>\n",
    "else:<br>\n",
    "&emsp;rob cos 3<br>\n",
    "<br>\n",
    "Oczywiście <i>elif</i> jako jedyny może się powtarzać nieskończenie wiele razy\n",
    "\n",
    "</div>"
   ]
  },
  {
   "cell_type": "code",
   "execution_count": null,
   "metadata": {},
   "outputs": [
    {
     "name": "stdout",
     "output_type": "stream",
     "text": [
      "2\n"
     ]
    }
   ],
   "source": [
    "x=2\n",
    "if x==2:\n",
    "    print(2)\n",
    "elif x==3:\n",
    "    print(3)\n",
    "elif x==4:\n",
    "    print(4)\n",
    "else:\n",
    "    print(1)"
   ]
  },
  {
   "cell_type": "markdown",
   "metadata": {},
   "source": [
    "<style>  \n",
    "div {background-color:#CD594A;color:white}\n",
    "h3 {color:white}\n",
    "a {color:#1496BB}\n",
    "img {max-width:500px;max-height:250px;height:auto;width:auto;}\n",
    "</style>\n",
    "<div>\n",
    "<h4> Należy zwracać uwagę, że ze względu na indentację nie można zostawić pustego warunku ( w takim przypadku używa się <b>pass</b>)\n",
    "</div>"
   ]
  },
  {
   "cell_type": "code",
   "execution_count": null,
   "metadata": {},
   "outputs": [
    {
     "ename": "IndentationError",
     "evalue": "expected an indented block (<ipython-input-63-131a5ef48a6d>, line 7)",
     "output_type": "error",
     "traceback": [
      "\u001b[1;36m  File \u001b[1;32m\"<ipython-input-63-131a5ef48a6d>\"\u001b[1;36m, line \u001b[1;32m7\u001b[0m\n\u001b[1;33m    else:\u001b[0m\n\u001b[1;37m    ^\u001b[0m\n\u001b[1;31mIndentationError\u001b[0m\u001b[1;31m:\u001b[0m expected an indented block\n"
     ]
    }
   ],
   "source": [
    "x=2\n",
    "if x==2:\n",
    "    print(2)\n",
    "elif x==3:\n",
    "    \n",
    "else:\n",
    "    print(1)"
   ]
  },
  {
   "cell_type": "code",
   "execution_count": null,
   "metadata": {},
   "outputs": [
    {
     "name": "stdout",
     "output_type": "stream",
     "text": [
      "2\n"
     ]
    }
   ],
   "source": [
    "x=2\n",
    "if x==2:\n",
    "    print(2)\n",
    "elif x==3:\n",
    "    pass\n",
    "else:\n",
    "    print(1)"
   ]
  },
  {
   "cell_type": "markdown",
   "metadata": {},
   "source": [
    "<style>  \n",
    "div {background-color:#CD594A;color:white}\n",
    "h3 {color:white}\n",
    "a {color:#1496BB}\n",
    "img {max-width:500px;max-height:250px;height:auto;width:auto;}\n",
    "</style>\n",
    "<div>Tak samo należy być konsekwentnym w używaniu indentacji. Nie należy przechodzić z używania <b> Tab </b> na <b> Spacebar </b>\n",
    "</div>"
   ]
  },
  {
   "cell_type": "markdown",
   "metadata": {},
   "source": [
    "<style>  \n",
    "div {background-color:#093145;color:white}\n",
    "h3 {color:white}\n",
    "a {color:#1496BB}\n",
    "img {max-width:500px;max-height:250px;height:auto;width:auto;}\n",
    "span {position:absolute;right:1vw;font-size:150%;font-weight: bold;}\n",
    "span>a {color:aliceblue;}\n",
    "span>a:hover {color:#fc0349;}\n",
    "span>a.visited {color:#fc0349;}\n",
    "</style>\n",
    "<span><a href='#top'>↑TOP↑</a></span>\n",
    "<h4 id='forstrukt'>Struktura Pętli for: </h4> <br>\n",
    "for zmienna in przedział:<br>\n",
    "&emsp; rób coś\n",
    "<br>\n",
    "<br>\n",
    "Oczywiście możliwe jest używanie w pętli <b>break i continue</b><br>\n",
    "Z czego przedziałem może być: <br>\n",
    "<ul>\n",
    "<li> range(początek,koniec,krok)\n",
    "<li> lista obiektów\n",
    "<li> dictionary\n",
    "<li> set\n",
    "<li> tuple"
   ]
  },
  {
   "cell_type": "code",
   "execution_count": null,
   "metadata": {},
   "outputs": [
    {
     "name": "stdout",
     "output_type": "stream",
     "text": [
      "0 1 2 3 4 5 6 7 8 9 "
     ]
    }
   ],
   "source": [
    "for i in range(10):\n",
    "    print(i,end=' ')"
   ]
  },
  {
   "cell_type": "code",
   "execution_count": null,
   "metadata": {},
   "outputs": [
    {
     "name": "stdout",
     "output_type": "stream",
     "text": [
      "12 15 18 21 "
     ]
    }
   ],
   "source": [
    "x=[12,15,18,21]\n",
    "for i in x:\n",
    "    print(i,end=' ')"
   ]
  },
  {
   "cell_type": "code",
   "execution_count": null,
   "metadata": {},
   "outputs": [
    {
     "name": "stdout",
     "output_type": "stream",
     "text": [
      "6 12\n",
      "7 15\n",
      "8 18\n"
     ]
    }
   ],
   "source": [
    "x= {6:12,7:15,8:18}\n",
    "for i in x:\n",
    "    print(i,x[i])"
   ]
  },
  {
   "cell_type": "code",
   "execution_count": null,
   "metadata": {},
   "outputs": [
    {
     "name": "stdout",
     "output_type": "stream",
     "text": [
      "12 13 15 "
     ]
    }
   ],
   "source": [
    "x={12,13,12,15,12}\n",
    "for i in x:\n",
    "    print(i,end=' ')"
   ]
  },
  {
   "cell_type": "markdown",
   "metadata": {},
   "source": [
    "<style>  \n",
    "div {background-color:#CD594A;color:white}\n",
    "h3 {color:white}\n",
    "a {color:#1496BB}\n",
    "img {max-width:500px;max-height:250px;height:auto;width:auto;}\n",
    "</style>\n",
    "<h4>Warto zauważyć, że wywołanie x[i] dla set zwróciłoby błąd, ze względu ze w set nie ma indexowania</h4>"
   ]
  },
  {
   "cell_type": "code",
   "execution_count": null,
   "metadata": {},
   "outputs": [
    {
     "ename": "TypeError",
     "evalue": "'set' object is not subscriptable",
     "output_type": "error",
     "traceback": [
      "\u001b[1;31m---------------------------------------------------------------------------\u001b[0m",
      "\u001b[1;31mTypeError\u001b[0m                                 Traceback (most recent call last)",
      "\u001b[1;32m<ipython-input-30-cdbc36ab09e9>\u001b[0m in \u001b[0;36m<module>\u001b[1;34m\u001b[0m\n\u001b[0;32m      1\u001b[0m \u001b[0mx\u001b[0m\u001b[1;33m=\u001b[0m\u001b[1;33m{\u001b[0m\u001b[1;36m12\u001b[0m\u001b[1;33m,\u001b[0m\u001b[1;36m13\u001b[0m\u001b[1;33m,\u001b[0m\u001b[1;36m12\u001b[0m\u001b[1;33m,\u001b[0m\u001b[1;36m15\u001b[0m\u001b[1;33m,\u001b[0m\u001b[1;36m12\u001b[0m\u001b[1;33m}\u001b[0m\u001b[1;33m\u001b[0m\u001b[1;33m\u001b[0m\u001b[0m\n\u001b[0;32m      2\u001b[0m \u001b[1;32mfor\u001b[0m \u001b[0mi\u001b[0m \u001b[1;32min\u001b[0m \u001b[0mrange\u001b[0m\u001b[1;33m(\u001b[0m\u001b[0mlen\u001b[0m\u001b[1;33m(\u001b[0m\u001b[0mx\u001b[0m\u001b[1;33m)\u001b[0m\u001b[1;33m)\u001b[0m\u001b[1;33m:\u001b[0m\u001b[1;33m\u001b[0m\u001b[1;33m\u001b[0m\u001b[0m\n\u001b[1;32m----> 3\u001b[1;33m     \u001b[0mprint\u001b[0m\u001b[1;33m(\u001b[0m\u001b[0mx\u001b[0m\u001b[1;33m[\u001b[0m\u001b[0mi\u001b[0m\u001b[1;33m]\u001b[0m\u001b[1;33m,\u001b[0m\u001b[0mend\u001b[0m\u001b[1;33m=\u001b[0m\u001b[1;34m' '\u001b[0m\u001b[1;33m)\u001b[0m\u001b[1;33m\u001b[0m\u001b[1;33m\u001b[0m\u001b[0m\n\u001b[0m",
      "\u001b[1;31mTypeError\u001b[0m: 'set' object is not subscriptable"
     ]
    }
   ],
   "source": [
    "x={12,13,12,15,12}\n",
    "for i in range(len(x)):\n",
    "    print(x[i],end=' ')"
   ]
  },
  {
   "cell_type": "code",
   "execution_count": null,
   "metadata": {},
   "outputs": [
    {
     "name": "stdout",
     "output_type": "stream",
     "text": [
      "12 15 18 21 "
     ]
    }
   ],
   "source": [
    "x=(12,15,18,21)\n",
    "for i in x:\n",
    "    print(i,end=' ')"
   ]
  },
  {
   "cell_type": "markdown",
   "metadata": {},
   "source": [
    "<style>  \n",
    "div {background-color:#093145;color:white}\n",
    "h3 {color:white}\n",
    "a {color:#1496BB}\n",
    "img {max-width:500px;max-height:250px;height:auto;width:auto;}\n",
    "span {position:absolute;right:1vw;font-size:150%;font-weight: bold;}\n",
    "span>a {color:aliceblue;}\n",
    "span>a:hover {color:#fc0349;}\n",
    "span>a.visited {color:#fc0349;}\n",
    "</style>\n",
    "<span><a href='#top'>↑TOP↑</a></span>\n",
    "<h4 id='whilestrukt'>Struktura Pętli while: </h4> <br>\n",
    "while warunek:<br>\n",
    "&emsp; rób coś<br><br>\n",
    "Oczywiście możliwe jest używanie w pętli <b>break i continue</b><br>\n",
    "Warunek musi być wartościowany na True, żeby pętla kontynuowała\n",
    "\n"
   ]
  },
  {
   "cell_type": "code",
   "execution_count": null,
   "metadata": {},
   "outputs": [
    {
     "name": "stdout",
     "output_type": "stream",
     "text": [
      "0 1 2 3 4 5 6 7 8 9 "
     ]
    }
   ],
   "source": [
    "x=0\n",
    "while True:\n",
    "    print(x,end=' ')\n",
    "    x+=1\n",
    "    if x>=10:\n",
    "        break"
   ]
  },
  {
   "cell_type": "code",
   "execution_count": null,
   "metadata": {},
   "outputs": [
    {
     "name": "stdout",
     "output_type": "stream",
     "text": [
      "0 1 2 3 4 5 6 7 8 9 "
     ]
    }
   ],
   "source": [
    "x=0\n",
    "while x<10:\n",
    "    print(x,end=' ')\n",
    "    x+=1"
   ]
  },
  {
   "cell_type": "markdown",
   "metadata": {},
   "source": [
    "<style>  \n",
    "div {background-color:#093145;color:white}\n",
    "h3 {color:white}\n",
    "a {color:#1496BB}\n",
    "img {max-width:500px;max-height:250px;height:auto;width:auto;}\n",
    "span {position:absolute;right:1vw;font-size:150%;font-weight: bold;}\n",
    "span>a {color:aliceblue;}\n",
    "span>a:hover {color:#fc0349;}\n",
    "span>a.visited {color:#fc0349;}\n",
    "</style>\n",
    "<span><a href='#top'>↑TOP↑</a></span>\n",
    "<div id='op_war'>\n",
    "<h3>Dostępne operatoracje dla warunków:</h3>\n",
    "<ul>\n",
    "<li>x == y\n",
    "<li>x > y lub x< y\n",
    "<li>x >= y lub x <= y\n",
    "<li>type(x) is int\n",
    "<li>len(x) > y\n",
    "</ul>\n"
   ]
  },
  {
   "cell_type": "code",
   "execution_count": null,
   "metadata": {},
   "outputs": [
    {
     "name": "stdout",
     "output_type": "stream",
     "text": [
      "yes\n"
     ]
    }
   ],
   "source": [
    "x=2\n",
    "if type(x) is int:\n",
    "    print('yes')\n",
    "else:\n",
    "    print('no')"
   ]
  },
  {
   "cell_type": "markdown",
   "metadata": {},
   "source": [
    "<style>  \n",
    "div {background-color:#093145;color:white}\n",
    "h3 {color:white}\n",
    "a {color:#1496BB}\n",
    "img {max-width:500px;max-height:250px;height:auto;width:auto;}\n",
    "</style>\n",
    "<div>\n",
    "\n",
    "<h3>Łączenie warunków </h3>\n",
    "<ul>\n",
    "<li> and (&&)\n",
    "<li> or  (||)\n",
    "</div>"
   ]
  },
  {
   "cell_type": "code",
   "execution_count": null,
   "metadata": {},
   "outputs": [
    {
     "name": "stdout",
     "output_type": "stream",
     "text": [
      "true\n"
     ]
    }
   ],
   "source": [
    "x=2\n",
    "if x==2 and x>1:\n",
    "    print(\"true\")\n",
    "\n"
   ]
  },
  {
   "cell_type": "code",
   "execution_count": null,
   "metadata": {},
   "outputs": [
    {
     "name": "stdout",
     "output_type": "stream",
     "text": [
      "true\n"
     ]
    }
   ],
   "source": [
    "x=2\n",
    "if x==2 or x<0:\n",
    "    print(\"true\")"
   ]
  },
  {
   "cell_type": "code",
   "execution_count": null,
   "metadata": {},
   "outputs": [
    {
     "name": "stdout",
     "output_type": "stream",
     "text": [
      "true\n"
     ]
    }
   ],
   "source": [
    "x=2\n",
    "if ((x==2 and x>1) or (x=='test' and x%2==0)):\n",
    "    print(\"true\")"
   ]
  },
  {
   "cell_type": "markdown",
   "metadata": {},
   "source": [
    "<style>  \n",
    "div {background-color:#093145;color:white}\n",
    "h3 {color:white}\n",
    "a {color:#1496BB}\n",
    "img {max-width:500px;max-height:250px;height:auto;width:auto;}\n",
    "</style>\n",
    "<div>\n",
    "<h3>Dostępne typy operacji</h3>\n",
    "<ul>\n",
    "<li> z = x + y\n",
    "<li> z += x + y\n",
    "<li> len(x)\n",
    "\n",
    "</ul>\n"
   ]
  },
  {
   "cell_type": "code",
   "execution_count": null,
   "metadata": {},
   "outputs": [
    {
     "name": "stdout",
     "output_type": "stream",
     "text": [
      "1 2 3 5 8 13 21 34 55 89 "
     ]
    }
   ],
   "source": [
    "a=0\n",
    "b=1\n",
    "for i in range(10):\n",
    "    c=a+b\n",
    "    print(c,end=' ')\n",
    "    a=b\n",
    "    b=c"
   ]
  },
  {
   "cell_type": "code",
   "execution_count": null,
   "metadata": {},
   "outputs": [
    {
     "name": "stdout",
     "output_type": "stream",
     "text": [
      "3\n",
      "3\n"
     ]
    }
   ],
   "source": [
    "x='123'\n",
    "print(len(x))\n",
    "x=[1,2,3]\n",
    "print(len(x))"
   ]
  },
  {
   "cell_type": "markdown",
   "metadata": {},
   "source": [
    "<style>  \n",
    "div {background-color:#093145;color:white}\n",
    "h3 {color:white}\n",
    "a {color:#1496BB}\n",
    "img {max-width:500px;max-height:250px;height:auto;width:auto;}\n",
    "span {position:absolute;right:1vw;font-size:150%;font-weight: bold;}\n",
    "span>a {color:aliceblue;}\n",
    "span>a:hover {color:#fc0349;}\n",
    "span>a.visited {color:#fc0349;}\n",
    "</style>\n",
    "<span><a href='#top'>↑TOP↑</a></span>\n",
    "<h5 id='zad0'>Przykładowy ciąg fibbonacego--- z1</h5>\n",
    "<h5>Przykładowe generowanie liczb pierwszych do X--- z2</h5>\n"
   ]
  },
  {
   "cell_type": "markdown",
   "metadata": {},
   "source": [
    "<style>  \n",
    "div {background-color:#093145;color:white}\n",
    "h3 {color:white}\n",
    "a {color:#1496BB}\n",
    "img {max-width:500px;max-height:250px;height:auto;width:auto;}\n",
    "span {position:absolute;right:1vw;font-size:150%;font-weight: bold;}\n",
    "span>a {color:aliceblue;}\n",
    "span>a:hover {color:#fc0349;}\n",
    "span>a.visited {color:#fc0349;}\n",
    "</style>\n",
    "<span><a href='#top'>↑TOP↑</a></span>\n",
    "<h4 id='import'>Importowanie bibliotek</h4>\n",
    "struktura importu:<br>\n",
    "from biblioteka import co_importowac<br><br>\n",
    "Biblioteki warte uwagi:<br>\n",
    "<ul>\n",
    "<li>random\n",
    "<li>math\n",
    "<li>pathlib\n",
    "<li>time\n",
    "<li>os\n",
    "<li>decimal\n",
    "<li>progressbar\n",
    "<li>selenium\n",
    "<li>namedlist\n",
    "<li>itertools\n",
    "<li>dearpygui"
   ]
  },
  {
   "cell_type": "code",
   "execution_count": null,
   "metadata": {},
   "outputs": [],
   "source": [
    "from random import randint,randrange\n",
    "# W tym przypadku importujemy tylko określone przez nas funkcje"
   ]
  },
  {
   "cell_type": "code",
   "execution_count": null,
   "metadata": {},
   "outputs": [],
   "source": [
    "from re import *\n",
    "# W tym przypadku importujemy wszystkie funkcje z biblioteki.\n",
    "#Powstaje wtedy problem, poniewaz uwzgledniamy wtedy rzeczy ktore nam nie sa potrzebne i przy duzych bibliotekach zajmuje to duzo miejsca"
   ]
  },
  {
   "cell_type": "markdown",
   "metadata": {},
   "source": [
    "<style>  \n",
    "div {background-color:#093145;color:white}\n",
    "h3 {color:white}\n",
    "a {color:#1496BB}\n",
    "img {max-width:500px;max-height:250px;height:auto;width:auto;}\n",
    "span {position:absolute;right:1vw;font-size:150%;font-weight: bold;}\n",
    "span>a {color:aliceblue;}\n",
    "span>a:hover {color:#fc0349;}\n",
    "span>a.visited {color:#fc0349;}\n",
    "</style>\n",
    "<span><a href='#top'>↑TOP↑</a></span>\n",
    "<h4 id='op_list'>Operacje dla list: </h4>\n"
   ]
  },
  {
   "cell_type": "markdown",
   "metadata": {},
   "source": [
    "<style>  \n",
    "div {background-color:#093145;color:white}\n",
    "h3 {color:white}\n",
    "a {color:#1496BB}\n",
    "img {max-width:500px;max-height:250px;height:auto;width:auto;}\n",
    "</style>\n",
    "<div id='l_dodaj'>\n",
    "dodawanie: .append() Dodaje pojedyncza wartosc na koniec listy"
   ]
  },
  {
   "cell_type": "code",
   "execution_count": null,
   "metadata": {},
   "outputs": [
    {
     "name": "stdout",
     "output_type": "stream",
     "text": [
      "[12, 13]\n"
     ]
    }
   ],
   "source": [
    "l=[]\n",
    "l.append(12)\n",
    "l.append(13)\n",
    "print(l)"
   ]
  },
  {
   "cell_type": "markdown",
   "metadata": {},
   "source": [
    "<style>  \n",
    "div {background-color:#093145;color:white}\n",
    "h3 {color:white}\n",
    "a {color:#1496BB}\n",
    "img {max-width:500px;max-height:250px;height:auto;width:auto;}\n",
    "</style>\n",
    "<div id='l_przedluz'>\n",
    "przedluzanie .extend() Dodaje kilka obiektow na raz na koniec listy (Rzadziej uzywane)"
   ]
  },
  {
   "cell_type": "code",
   "execution_count": null,
   "metadata": {},
   "outputs": [
    {
     "name": "stdout",
     "output_type": "stream",
     "text": [
      "[12, 13, 14]\n"
     ]
    }
   ],
   "source": [
    "l=[]\n",
    "l.extend([12,13,14])\n",
    "print(l)"
   ]
  },
  {
   "cell_type": "markdown",
   "metadata": {},
   "source": [
    "<style>  \n",
    "div {background-color:#093145;color:white}\n",
    "h3 {color:white}\n",
    "a {color:#1496BB}\n",
    "img {max-width:500px;max-height:250px;height:auto;width:auto;}\n",
    "</style>\n",
    "<h5>Różnica miedzy .append() i .extend() "
   ]
  },
  {
   "cell_type": "code",
   "execution_count": null,
   "metadata": {},
   "outputs": [
    {
     "name": "stdout",
     "output_type": "stream",
     "text": [
      "[[12, 13, 14]]\n"
     ]
    }
   ],
   "source": [
    "l=[]\n",
    "l.append([12,13,14])\n",
    "print(l)\n",
    "#append potraktowało listę obiektów dodawanych jako pojedyńczy obiekt"
   ]
  },
  {
   "cell_type": "markdown",
   "metadata": {},
   "source": [
    "<style>  \n",
    "div {background-color:#093145;color:white}\n",
    "h3 {color:white}\n",
    "a {color:#1496BB}\n",
    "img {max-width:500px;max-height:250px;height:auto;width:auto;}\n",
    "</style>\n",
    "<div id='l_wsadz'>\n",
    "wsadzanie .insert() Dodaje pojedyncza wartosc w wybrane przez nas miejsce w liscie <b>.insert(index,wartosc)</b>"
   ]
  },
  {
   "cell_type": "code",
   "execution_count": null,
   "metadata": {},
   "outputs": [
    {
     "name": "stdout",
     "output_type": "stream",
     "text": [
      "[12, 13, 14, 15]\n"
     ]
    }
   ],
   "source": [
    "l=[12,14,15]\n",
    "l.insert(1,13)\n",
    "print(l)"
   ]
  },
  {
   "cell_type": "markdown",
   "metadata": {},
   "source": [
    "<style>  \n",
    "div {background-color:#093145;color:white}\n",
    "h3 {color:white}\n",
    "a {color:#1496BB}\n",
    "img {max-width:500px;max-height:250px;height:auto;width:auto;}\n",
    "</style>\n",
    "<div id='l_usunr'>\n",
    "usuwanie po wartosci .remove() Usuwa pojedyncza wartosc. W przypadku kilku wystapien usuwa tylko pierwsze wystapienie w liscie"
   ]
  },
  {
   "cell_type": "code",
   "execution_count": null,
   "metadata": {},
   "outputs": [
    {
     "name": "stdout",
     "output_type": "stream",
     "text": [
      "[12, 14, 15, 13]\n"
     ]
    }
   ],
   "source": [
    "l=[12,13,14,15,13]\n",
    "l.remove(13)\n",
    "print(l)"
   ]
  },
  {
   "cell_type": "markdown",
   "metadata": {},
   "source": [
    "<style>  \n",
    "div {background-color:#093145;color:white}\n",
    "h3 {color:white}\n",
    "a {color:#1496BB}\n",
    "img {max-width:500px;max-height:250px;height:auto;width:auto;}\n",
    "</style>\n",
    "<div id='l_usunp'>\n",
    "usuwanie po indexie .pop() Usuwa pojedyncza wartosc po indexie"
   ]
  },
  {
   "cell_type": "code",
   "execution_count": null,
   "metadata": {},
   "outputs": [
    {
     "name": "stdout",
     "output_type": "stream",
     "text": [
      "[12, 14, 15]\n"
     ]
    }
   ],
   "source": [
    "l=[12,14,15,13]\n",
    "l.pop(3)\n",
    "print(l)"
   ]
  },
  {
   "cell_type": "markdown",
   "metadata": {},
   "source": [
    "<style>  \n",
    "div {background-color:#093145;color:white}\n",
    "h3 {color:white}\n",
    "a {color:#1496BB}\n",
    "img {max-width:500px;max-height:250px;height:auto;width:auto;}\n",
    "</style>\n",
    "<div id='l_odwroc'>\n",
    "odwrocenie listy .reverse() Po uzycie odwraca liste"
   ]
  },
  {
   "cell_type": "code",
   "execution_count": null,
   "metadata": {},
   "outputs": [
    {
     "name": "stdout",
     "output_type": "stream",
     "text": [
      "[15, 14, 13, 12]\n"
     ]
    }
   ],
   "source": [
    "l=[12,13,14,15]\n",
    "l.reverse()\n",
    "print(l)"
   ]
  },
  {
   "cell_type": "markdown",
   "metadata": {},
   "source": [
    "<style>  \n",
    "div {background-color:#093145;color:white}\n",
    "h3 {color:white}\n",
    "a {color:#1496BB}\n",
    "img {max-width:500px;max-height:250px;height:auto;width:auto;}\n",
    "</style>\n",
    "<div id='l_len'>\n",
    "wyswietlenie dlugosci listy .len() Wyswietla dlugosc listy"
   ]
  },
  {
   "cell_type": "code",
   "execution_count": null,
   "metadata": {},
   "outputs": [
    {
     "name": "stdout",
     "output_type": "stream",
     "text": [
      "4\n"
     ]
    }
   ],
   "source": [
    "l=[12,13,14,15]\n",
    "print(len(l))"
   ]
  },
  {
   "cell_type": "markdown",
   "metadata": {},
   "source": [
    "<style>  \n",
    "div {background-color:#093145;color:white}\n",
    "h3 {color:white}\n",
    "a {color:#1496BB}\n",
    "img {max-width:500px;max-height:250px;height:auto;width:auto;}\n",
    "</style>\n",
    "<div id='l_maxmin'>\n",
    "wyswietlenie max(lista) | min(lista)"
   ]
  },
  {
   "cell_type": "code",
   "execution_count": null,
   "metadata": {},
   "outputs": [
    {
     "name": "stdout",
     "output_type": "stream",
     "text": [
      "12 15\n"
     ]
    }
   ],
   "source": [
    "l=[12,13,14,15]\n",
    "print(min(l),max(l))"
   ]
  },
  {
   "cell_type": "markdown",
   "metadata": {},
   "source": [
    "<style>  \n",
    "div {background-color:#093145;color:white}\n",
    "h3 {color:white}\n",
    "a {color:#1496BB}\n",
    "img {max-width:500px;max-height:250px;height:auto;width:auto;}\n",
    "</style>\n",
    "<div id='l_count'>\n",
    "wyswietlenie ilosci wystapien obiektu .count() Wyswietla ilosc wystapien obiektu po wartosci"
   ]
  },
  {
   "cell_type": "code",
   "execution_count": null,
   "metadata": {},
   "outputs": [
    {
     "name": "stdout",
     "output_type": "stream",
     "text": [
      "3\n"
     ]
    }
   ],
   "source": [
    "l=[12,12,13,14,15,12]\n",
    "print(l.count(12))"
   ]
  },
  {
   "cell_type": "markdown",
   "metadata": {},
   "source": [
    "<style>  \n",
    "div {background-color:#093145;color:white}\n",
    "h3 {color:white}\n",
    "a {color:#1496BB}\n",
    "img {max-width:500px;max-height:250px;height:auto;width:auto;}\n",
    "</style>\n",
    "<div id='l_lacz'>\n",
    "polaczenie dwoch list nowa_lista=lista_1+lista_2\n"
   ]
  },
  {
   "cell_type": "code",
   "execution_count": null,
   "metadata": {},
   "outputs": [
    {
     "name": "stdout",
     "output_type": "stream",
     "text": [
      "[12, 13, 13, 14]\n"
     ]
    }
   ],
   "source": [
    "l1=[12,13]\n",
    "l2=[13,14]\n",
    "l=l1+l2\n",
    "print(l)"
   ]
  },
  {
   "cell_type": "markdown",
   "metadata": {},
   "source": [
    "<style>  \n",
    "div {background-color:#093145;color:white}\n",
    "h3 {color:white}\n",
    "a {color:#1496BB}\n",
    "img {max-width:500px;max-height:250px;height:auto;width:auto;}\n",
    "</style>\n",
    "<div id='l_index'>\n",
    "wyswietlenie indexu szukanej wartosci .index() Wyswietla index poszukiwanej wartosci <b>Format .index(wartosc,start,koniec) </b>"
   ]
  },
  {
   "cell_type": "code",
   "execution_count": null,
   "metadata": {},
   "outputs": [
    {
     "name": "stdout",
     "output_type": "stream",
     "text": [
      "2\n"
     ]
    }
   ],
   "source": [
    "l=[12,13,14,15,14]\n",
    "print(l.index(14))\n",
    "#Przeszukuje cala liste i zwraca pierwsze wystapienie"
   ]
  },
  {
   "cell_type": "code",
   "execution_count": null,
   "metadata": {},
   "outputs": [
    {
     "name": "stdout",
     "output_type": "stream",
     "text": [
      "4\n"
     ]
    }
   ],
   "source": [
    "l=[12,13,14,15,12,14]\n",
    "print(l.index(12,2,5))\n",
    "#Przeszukuje liste od indexu 2 do indexu 5"
   ]
  },
  {
   "cell_type": "markdown",
   "metadata": {},
   "source": [
    "<style>  \n",
    "div {background-color:#093145;color:white}\n",
    "h3 {color:white}\n",
    "a {color:#1496BB}\n",
    "img {max-width:500px;max-height:250px;height:auto;width:auto;}\n",
    "</style>\n",
    "<div id='l_sort'>\n",
    "sortowanie wartosci liczbowych .sort() sortuje liczby z listy "
   ]
  },
  {
   "cell_type": "code",
   "execution_count": null,
   "metadata": {},
   "outputs": [
    {
     "name": "stdout",
     "output_type": "stream",
     "text": [
      "[11, 12, 13, 14, 15]\n"
     ]
    }
   ],
   "source": [
    "l=[13,15,14,11,12]\n",
    "l.sort()\n",
    "print(l)"
   ]
  },
  {
   "cell_type": "markdown",
   "metadata": {},
   "source": [
    "<style>  \n",
    "div {background-color:#093145;color:white}\n",
    "h3 {color:white}\n",
    "a {color:#1496BB}\n",
    "img {max-width:500px;max-height:250px;height:auto;width:auto;}\n",
    "span {position:absolute;right:1vw;font-size:150%;font-weight: bold;}\n",
    "span>a {color:aliceblue;}\n",
    "span>a:hover {color:#fc0349;}\n",
    "span>a.visited {color:#fc0349;}\n",
    "</style>\n",
    "<span><a href='#top'>↑TOP↑</a></span>\n",
    "<div id='zad1'>\n",
    "<h5>Zadania na utrwalenie: </h5>\n",
    "<ol>\n",
    "<li>Napisz kod zwracający sumę kwadratów liczy do X--- z3     Przykłady: x=1 wynik:1;x=2 wynik=5;x=3 wynik=14 \n",
    "<li>Napisz kod, który przymuje input użytkownika, do momenty gdy nie poda liczby większej od X--- z4\n",
    "<li>Napisz kod, który przyjmuje input użytkownika, do momentu, gdy nie wpisze wszystkich pozycji z listy X losowych liczb--- z5\n",
    "<li>Napisz kod, który sortuje listę liczb od największej do najmniejszej--- z6\n",
    "<li>Napisz kod, który pozbywa się wszystkich duplikatów z listy--- z7\n",
    "\n"
   ]
  },
  {
   "cell_type": "markdown",
   "metadata": {},
   "source": [
    "<style>  \n",
    "div {background-color:#093145;color:white}\n",
    "h3 {color:white}\n",
    "a {color:#1496BB}\n",
    "img {max-width:500px;max-height:250px;height:auto;width:auto;}\n",
    "span {position:absolute;right:1vw;font-size:150%;font-weight: bold;}\n",
    "span>a {color:aliceblue;}\n",
    "span>a:hover {color:#fc0349;}\n",
    "span>a.visited {color:#fc0349;}\n",
    "</style>\n",
    "<span><a href='#top'>↑TOP↑</a></span>\n",
    "<div id='zad1'>\n",
    "<h4>Dodatkowe przydatne funkcje dla list: </h4>"
   ]
  },
  {
   "cell_type": "markdown",
   "metadata": {},
   "source": [
    "<style>  \n",
    "div {background-color:#CD594A;color:white}\n",
    "h3 {color:white}\n",
    "a {color:#1496BB}\n",
    "img {max-width:500px;max-height:250px;height:auto;width:auto;}\n",
    "</style>\n",
    "<h4> Warto zwrócić uwagę, że string nie jest daleki do tabeli, więc duża ilość funkcji może zostać zastosowana do stringów. Duża część funkcji działa też na obiekty tablico-podobne. Na przykład set, tuple"
   ]
  },
  {
   "cell_type": "markdown",
   "metadata": {},
   "source": [
    "<style>  \n",
    "div {background-color:#093145;color:white}\n",
    "h3 {color:white}\n",
    "a {color:#1496BB}\n",
    "img {max-width:500px;max-height:250px;height:auto;width:auto;}\n",
    "span {position:absolute;right:1vw;font-size:150%;font-weight: bold;}\n",
    "span>a {color:aliceblue;}\n",
    "span>a:hover {color:#fc0349;}\n",
    "span>a.visited {color:#fc0349;}\n",
    "</style>\n",
    "<span><a href='#top'>↑TOP↑</a></span>\n",
    "<h5 id='l_f_any'>Funkcja any() </h5>\n",
    "Zwraca boolean ( True | False ) w zależności, czy chociaż jeden obiekt jest true. Można to połączyć z list comprehension, żeby sprawdzić, czy jakaś pozycja spełnia warunek"
   ]
  },
  {
   "cell_type": "code",
   "execution_count": null,
   "metadata": {},
   "outputs": [
    {
     "name": "stdout",
     "output_type": "stream",
     "text": [
      "True\n"
     ]
    }
   ],
   "source": [
    "l=[False,True,True]\n",
    "print(any(l))"
   ]
  },
  {
   "cell_type": "code",
   "execution_count": null,
   "metadata": {},
   "outputs": [
    {
     "name": "stdout",
     "output_type": "stream",
     "text": [
      "False\n"
     ]
    }
   ],
   "source": [
    "l=[-2,-3,1,43,23,1,2,]\n",
    "print(any([i>50 for i in l]))"
   ]
  },
  {
   "cell_type": "markdown",
   "metadata": {},
   "source": [
    "<style>  \n",
    "div {background-color:#093145;color:white}\n",
    "h3 {color:white}\n",
    "a {color:#1496BB}\n",
    "img {max-width:500px;max-height:250px;height:auto;width:auto;}\n",
    "span {position:absolute;right:1vw;font-size:150%;font-weight: bold;}\n",
    "span>a {color:aliceblue;}\n",
    "span>a:hover {color:#fc0349;}\n",
    "span>a.visited {color:#fc0349;}\n",
    "</style>\n",
    "<span><a href='#top'>↑TOP↑</a></span>\n",
    "<h5 id='l_f_all'>Funkcja all() </h5>\n",
    "Zwraca boolean ( True | False ) w zależności, czy wszystkie obiekty są True. Można to połączyć z list comprehension, żeby sprawdzić, czy cała lista spełnia warunki"
   ]
  },
  {
   "cell_type": "code",
   "execution_count": null,
   "metadata": {},
   "outputs": [
    {
     "name": "stdout",
     "output_type": "stream",
     "text": [
      "False\n"
     ]
    }
   ],
   "source": [
    "l=[True,False,True,True]\n",
    "print(all(l))"
   ]
  },
  {
   "cell_type": "code",
   "execution_count": null,
   "metadata": {},
   "outputs": [
    {
     "name": "stdout",
     "output_type": "stream",
     "text": [
      "Wszystkie wieksze niz 5\n"
     ]
    }
   ],
   "source": [
    "l=[125,6,13,15,667]\n",
    "if all([i > 5 for i in l]):\n",
    "\tprint(\"Wszystkie wieksze niz 5\")"
   ]
  },
  {
   "cell_type": "markdown",
   "metadata": {},
   "source": [
    "<style>  \n",
    "div {background-color:#CD594A;color:white}\n",
    "h3 {color:white}\n",
    "a {color:#1496BB}\n",
    "img {max-width:500px;max-height:250px;height:auto;width:auto;}\n",
    "span {position:absolute;right:1vw;font-size:150%;font-weight: bold;}\n",
    "span>a {color:aliceblue;}\n",
    "span>a:hover {color:#fc0349;}\n",
    "span>a.visited {color:#fc0349;}\n",
    "</style>\n",
    "<span><a href='#top'>↑TOP↑</a></span>\n",
    "<h4 id='l_f_enum'> Funkcja Enumerate() </h4>\n",
    "Przyjmuje iterator (lista,range,itp.). Zwraca 2 wartości. Używane w pętli for. Zwraca pozycje oraz obiekt. Pozwala pozbyć się wykorzystywania indexu w tablicy i wywoływania tak wartości<br>\n",
    "<br>\n",
    "<h5>Struktura: </h5>\n",
    "for pozycja,obiekt in enumerate(lista):<br>\n",
    "&emsp; rób coś<br>"
   ]
  },
  {
   "cell_type": "code",
   "execution_count": null,
   "metadata": {},
   "outputs": [
    {
     "name": "stdout",
     "output_type": "stream",
     "text": [
      "adam ma pozycję 0\n",
      "ewa ma pozycję 1\n",
      "ola ma pozycję 2\n"
     ]
    }
   ],
   "source": [
    "l=['adam','ewa','ola']\n",
    "for poz,obiekt in enumerate(l):\n",
    "    print(f'{obiekt} ma pozycję {poz}')"
   ]
  },
  {
   "cell_type": "code",
   "execution_count": null,
   "metadata": {},
   "outputs": [
    {
     "name": "stdout",
     "output_type": "stream",
     "text": [
      "Nasz największy obiekt to 10 z pozycją 2\n"
     ]
    }
   ],
   "source": [
    "l=[1,2,10,3,4]\n",
    "_max=l[0]\n",
    "_max_poz=0\n",
    "for poz,obiekt in enumerate(l):\n",
    "    if obiekt>_max:\n",
    "        _max=obiekt\n",
    "        _max_poz=poz\n",
    "print(f'Nasz największy obiekt to {_max} z pozycją {_max_poz}')"
   ]
  },
  {
   "cell_type": "markdown",
   "metadata": {},
   "source": [
    "<style>  \n",
    "div {background-color:#093145;color:white}\n",
    "h3 {color:white}\n",
    "a {color:#1496BB}\n",
    "img {max-width:500px;max-height:250px;height:auto;width:auto;}\n",
    "span {position:absolute;right:1vw;font-size:150%;font-weight: bold;}\n",
    "span>a {color:aliceblue;}\n",
    "span>a:hover {color:#fc0349;}\n",
    "span>a.visited {color:#fc0349;}\n",
    "</style>\n",
    "<span><a href='#top'>↑TOP↑</a></span>\n",
    "<h5 id='l_f_zip'>Funkcja zip() </h5>\n",
    "Pozwala na połączenie w pary odpowiadających sobie obiektów, z czego obiekt l[1] odpowiada obiektowi l2[1]. Powstanie tylko tyle połączeń, ile jest  obiektów w najmniejszej liście"
   ]
  },
  {
   "cell_type": "code",
   "execution_count": null,
   "metadata": {},
   "outputs": [
    {
     "name": "stdout",
     "output_type": "stream",
     "text": [
      "[(10, 0.5), (15, 1), (20, 1.5)]\n"
     ]
    }
   ],
   "source": [
    "pozycjaX=[10, 15, 20]\n",
    "pozycjaY=[0.5, 1, 1.5]\n",
    "wynik=list(zip(pozycjaX,pozycjaY))\n",
    "print(wynik)"
   ]
  },
  {
   "cell_type": "code",
   "execution_count": null,
   "metadata": {},
   "outputs": [
    {
     "name": "stdout",
     "output_type": "stream",
     "text": [
      "[(12, True), (15, False)]\n"
     ]
    }
   ],
   "source": [
    "boolean=[True,False]\n",
    "wartosc=[12,15,18,21,24]\n",
    "wynik=list(zip(wartosc,boolean))\n",
    "print(wynik)"
   ]
  },
  {
   "cell_type": "markdown",
   "metadata": {},
   "source": [
    "<style>  \n",
    "div {background-color:#CD594A;color:white}\n",
    "h3 {color:white}\n",
    "a {color:#1496BB}\n",
    "img {max-width:500px;max-height:250px;height:auto;width:auto;}\n",
    "span {position:absolute;right:1vw;font-size:150%;font-weight: bold;}\n",
    "span>a {color:aliceblue;}\n",
    "span>a:hover {color:#fc0349;}\n",
    "span>a.visited {color:#fc0349;}\n",
    "</style>\n",
    "Trzeba zwrócić uwagę, że zip zwraca połączone obiekty w secie, więć może być potrzebna potem konwersja na listę"
   ]
  },
  {
   "cell_type": "code",
   "execution_count": null,
   "metadata": {},
   "outputs": [
    {
     "name": "stdout",
     "output_type": "stream",
     "text": [
      "[[12, True], [15, False]]\n"
     ]
    }
   ],
   "source": [
    "boolean=[True,False]\n",
    "wartosc=[12,15,18,21,24]\n",
    "wynik=list(zip(wartosc,boolean))\n",
    "wynik=[list(i) for i in wynik]\n",
    "print(wynik)"
   ]
  },
  {
   "cell_type": "markdown",
   "metadata": {},
   "source": [
    "<style>  \n",
    "div {background-color:#093145;color:white}\n",
    "h3 {color:white}\n",
    "a {color:#1496BB}\n",
    "img {max-width:500px;max-height:250px;height:auto;width:auto;}\n",
    "</style>\n",
    "<h5>Rozłączanie używając zip() </h5>"
   ]
  },
  {
   "cell_type": "code",
   "execution_count": null,
   "metadata": {},
   "outputs": [
    {
     "name": "stdout",
     "output_type": "stream",
     "text": [
      "([1, 2],)\n",
      "([3, 4],)\n"
     ]
    }
   ],
   "source": [
    "l=[[1, 2], [3, 4]]\n",
    "poz0, poz1=zip(l)\n",
    "print(poz0)\n",
    "print(poz1)"
   ]
  },
  {
   "cell_type": "markdown",
   "metadata": {},
   "source": [
    "<style>  \n",
    "div {background-color:#093145;color:white}\n",
    "h3 {color:white}\n",
    "a {color:#1496BB}\n",
    "img {max-width:500px;max-height:250px;height:auto;width:auto;}\n",
    "span {position:absolute;right:1vw;font-size:150%;font-weight: bold;}\n",
    "span>a {color:aliceblue;}\n",
    "span>a:hover {color:#fc0349;}\n",
    "span>a.visited {color:#fc0349;}\n",
    "</style>\n",
    "<span><a href='#top'>↑TOP↑</a></span>\n",
    "Warto też zwrócić uwagę, że zip jest obiektem po którym można się poruszać pętlą for.<br>\n",
    "Struktura:<br>\n",
    "for a,b in zip(listaA,listaB):<br>\n",
    "&emsp;zrób coś z a i b<br><br>\n",
    "lub<br><br>\n",
    "for a,b in juz_polaczona_lista:<br>\n",
    "&emsp;zrób coś z a i b<br><br>\n",
    "Co pozwala nam łatwo rozwiązać przykład np. tablicy dwuwymiarowej, bez potrzeby kolejnego for lub dokonać działania na tych samych indexach z różnych wymiarów\n"
   ]
  },
  {
   "cell_type": "code",
   "execution_count": null,
   "metadata": {},
   "outputs": [
    {
     "name": "stdout",
     "output_type": "stream",
     "text": [
      "6\n",
      "36\n",
      "216\n"
     ]
    }
   ],
   "source": [
    "l=zip([3,9,27],\n",
    "      [2,4,8])\n",
    "for liczba1,liczba2 in l:\n",
    "    print(liczba1*liczba2)"
   ]
  },
  {
   "cell_type": "markdown",
   "metadata": {},
   "source": [
    "<style>  \n",
    "div {background-color:#093145;color:white}\n",
    "h3 {color:white}\n",
    "a {color:#1496BB}\n",
    "img {max-width:500px;max-height:250px;height:auto;width:auto;}\n",
    "span {position:absolute;right:1vw;font-size:150%;font-weight: bold;}\n",
    "span>a {color:aliceblue;}\n",
    "span>a:hover {color:#fc0349;}\n",
    "span>a.visited {color:#fc0349;}\n",
    "</style>\n",
    "<span><a href='#top'>↑TOP↑</a></span>\n",
    "<h3 id='l_slice'>Slicowanie tablic</h3>\n",
    "Użyteczne, gdy chcemy otrzymać tylko wycinek listy, odwrócić ją, lub wybrać specjalny fragment<br>\n",
    "Struktura:<br><br>\n",
    "<b>lista[początek: koniec: krok]</b><br><br>\n",
    "Przy czym zostawienie którejś wartości pustej oznacza zostawienie domyślnej i należy pamiętać,że do pozycji 7 oznacza, że ostatnią wartością będzie 6"
   ]
  },
  {
   "cell_type": "code",
   "execution_count": null,
   "metadata": {},
   "outputs": [
    {
     "name": "stdout",
     "output_type": "stream",
     "text": [
      "[4, 9, 16, 25]\n"
     ]
    }
   ],
   "source": [
    "x = [0, 1, 4, 9, 16, 25, 36, 49, 64, 81]\n",
    "print(x[2:6])                               #Podany zakres wyrazow to 2-5  "
   ]
  },
  {
   "cell_type": "code",
   "execution_count": null,
   "metadata": {},
   "outputs": [
    {
     "name": "stdout",
     "output_type": "stream",
     "text": [
      "[9, 16, 25, 36, 49]\n"
     ]
    }
   ],
   "source": [
    "x = [0, 1, 4, 9, 16, 25, 36, 49, 64, 81]\n",
    "print(x[3:8])                               #Podany zakres wyrazow to 3-7"
   ]
  },
  {
   "cell_type": "code",
   "execution_count": null,
   "metadata": {},
   "outputs": [
    {
     "name": "stdout",
     "output_type": "stream",
     "text": [
      "[0]\n"
     ]
    }
   ],
   "source": [
    "x = [0, 1, 4, 9, 16, 25, 36, 49, 64, 81]\n",
    "print(x[0:1])                               #Podany zakres wyrazow to wyraz 0"
   ]
  },
  {
   "cell_type": "code",
   "execution_count": null,
   "metadata": {},
   "outputs": [
    {
     "name": "stdout",
     "output_type": "stream",
     "text": [
      "[0, 1, 4, 9, 16, 25, 36]\n"
     ]
    }
   ],
   "source": [
    "x = [0, 1, 4, 9, 16, 25, 36, 49, 64, 81]\n",
    "print(x[:7])                                #Podany zakres wyrazow to 0-6"
   ]
  },
  {
   "cell_type": "code",
   "execution_count": null,
   "metadata": {},
   "outputs": [
    {
     "name": "stdout",
     "output_type": "stream",
     "text": [
      "[49, 64, 81]\n"
     ]
    }
   ],
   "source": [
    "x = [0, 1, 4, 9, 16, 25, 36, 49, 64, 81]\n",
    "print(x[7:])                                #Podany zakres wyrazow to 7-(koniec listy)"
   ]
  },
  {
   "cell_type": "code",
   "execution_count": null,
   "metadata": {},
   "outputs": [
    {
     "name": "stdout",
     "output_type": "stream",
     "text": [
      "[0, 4, 16, 36, 64]\n"
     ]
    }
   ],
   "source": [
    "x = [0, 1, 4, 9, 16, 25, 36, 49, 64, 81]\n",
    "print(x[::2])                               #Przeskakuje o 2 od 0-(koniec listy)"
   ]
  },
  {
   "cell_type": "code",
   "execution_count": null,
   "metadata": {},
   "outputs": [
    {
     "name": "stdout",
     "output_type": "stream",
     "text": [
      "[4, 25]\n"
     ]
    }
   ],
   "source": [
    "x = [0, 1, 4, 9, 16, 25, 36, 49, 64, 81]\n",
    "print(x[2:8:3])                             # przeskakuje o 3 od 2-7"
   ]
  },
  {
   "cell_type": "code",
   "execution_count": null,
   "metadata": {},
   "outputs": [
    {
     "name": "stdout",
     "output_type": "stream",
     "text": [
      "[0, 1, 4, 9, 16, 25, 36, 49, 64]\n"
     ]
    }
   ],
   "source": [
    "x = [0, 1, 4, 9, 16, 25, 36, 49, 64, 81]\n",
    "print(x[0:-1])                             # zakres to od 0 do (koniec listy -1) * przy podaniu [-] porusza od konca tabeli            "
   ]
  },
  {
   "cell_type": "code",
   "execution_count": null,
   "metadata": {},
   "outputs": [
    {
     "name": "stdout",
     "output_type": "stream",
     "text": [
      "16ffb\n"
     ]
    }
   ],
   "source": [
    "x='0x16ffb'\n",
    "print(x[2:])"
   ]
  },
  {
   "cell_type": "markdown",
   "metadata": {},
   "source": [
    "<style>  \n",
    "div {background-color:#093145;color:white}\n",
    "h3 {color:white}\n",
    "a {color:#1496BB}\n",
    "img {max-width:500px;max-height:250px;height:auto;width:auto;}\n",
    "span {position:absolute;right:1vw;font-size:150%;font-weight: bold;}\n",
    "span>a {color:aliceblue;}\n",
    "span>a:hover {color:#fc0349;}\n",
    "span>a.visited {color:#fc0349;}\n",
    "</style>\n",
    "<span><a href='#top'>↑TOP↑</a></span>\n",
    "<h3 id='l_comp'>List Comprehension</h3>\n",
    "Pozwala skrócić kod i w przypadku prostych czynności zaoszczędzić nadmiarowego kodu.<br><br>\n",
    "Struktura:<br>\n",
    "nowa_lista=[czynność( obiekt ) for obiekt in stara_lista]"
   ]
  },
  {
   "cell_type": "code",
   "execution_count": null,
   "metadata": {},
   "outputs": [
    {
     "name": "stdout",
     "output_type": "stream",
     "text": [
      "[2, 4, 6]\n"
     ]
    }
   ],
   "source": [
    "l=[1,2,3]\n",
    "l2=[i*2 for i in l]\n",
    "print(l2)"
   ]
  },
  {
   "cell_type": "code",
   "execution_count": null,
   "metadata": {},
   "outputs": [
    {
     "name": "stdout",
     "output_type": "stream",
     "text": [
      "[1, 2, 3]\n"
     ]
    }
   ],
   "source": [
    "l=['1','2','3']\n",
    "l2=[int(i) for i in l]\n",
    "print(l2)"
   ]
  },
  {
   "cell_type": "code",
   "execution_count": null,
   "metadata": {},
   "outputs": [
    {
     "name": "stdout",
     "output_type": "stream",
     "text": [
      "[3, 7]\n"
     ]
    }
   ],
   "source": [
    "l=[[1, 2], \n",
    "   [3, 4]]\n",
    "suma=[sum(i) for i in l]\n",
    "print(suma)"
   ]
  },
  {
   "cell_type": "markdown",
   "metadata": {},
   "source": [
    "<style>  \n",
    "div {background-color:#093145;color:white}\n",
    "h3 {color:white}\n",
    "a {color:#1496BB}\n",
    "img {max-width:500px;max-height:250px;height:auto;width:auto;}\n",
    "span {position:absolute;right:1vw;font-size:150%;font-weight: bold;}\n",
    "span>a {color:aliceblue;}\n",
    "span>a:hover {color:#fc0349;}\n",
    "span>a.visited {color:#fc0349;}\n",
    "</style>\n",
    "Można wykorzystać to, do zagłębienia dowolną ilość poziomów głębiej w tablicy wielowymiarowej. Można też dostrzec, że same list comprehensions wykorzystuje się zazwyczaj to mniejszych, prostych rzeczy do wykonania"
   ]
  },
  {
   "cell_type": "code",
   "execution_count": null,
   "metadata": {},
   "outputs": [
    {
     "name": "stdout",
     "output_type": "stream",
     "text": [
      "[[1, 2, 3], [4, 5, 6], [7, 8, 9]]\n"
     ]
    }
   ],
   "source": [
    "l=[['1','2','3'], #lista\n",
    "   ['4','5','6'],\n",
    "   ['7','8','9']]\n",
    "poprawione=[ [int(poz2) for poz2 in poz1] for poz1 in l]\n",
    "print(poprawione)"
   ]
  },
  {
   "cell_type": "markdown",
   "metadata": {},
   "source": [
    "<style>  \n",
    "div {background-color:#CD594A;color:white}\n",
    "h3 {color:white}\n",
    "a {color:#1496BB}\n",
    "img {max-width:500px;max-height:250px;height:auto;width:auto;}\n",
    "span {position:absolute;right:1vw;font-size:150%;font-weight: bold;}\n",
    "span>a {color:aliceblue;}\n",
    "span>a:hover {color:#fc0349;}\n",
    "span>a.visited {color:#fc0349;}\n",
    "</style>\n",
    "Warto w tym momencie zwrócić uwagę, że część obiektów z wieloma parametrami lub duże listy możma rozdzielić na wiele linijek, żeby zwiększyć czytelność"
   ]
  },
  {
   "cell_type": "code",
   "execution_count": null,
   "metadata": {},
   "outputs": [],
   "source": [
    "l=[[1,2,3], #lista\n",
    "   [4,5,6],\n",
    "   [7,8,9]]\n",
    "d={         #dictionary\n",
    "    1:0,\n",
    "    2:1,\n",
    "    3:2\n",
    "}\n",
    "def f(p1,   #funkcja\n",
    "      p2,\n",
    "      p3):\n",
    "    pass"
   ]
  },
  {
   "cell_type": "markdown",
   "metadata": {},
   "source": [
    "<style>  \n",
    "div {background-color:#093145;color:white}\n",
    "h3 {color:white}\n",
    "a {color:#1496BB}\n",
    "img {max-width:500px;max-height:250px;height:auto;width:auto;}\n",
    "span {position:absolute;right:1vw;font-size:150%;font-weight: bold;}\n",
    "span>a {color:aliceblue;}\n",
    "span>a:hover {color:#fc0349;}\n",
    "span>a.visited {color:#fc0349;}\n",
    "</style>\n",
    "<span><a href='#top'>↑TOP↑</a></span>\n",
    "<h3 id='dict'>Trochę więcej o dictionary</h3>\n",
    "Przetrzymuje wartości w postacji klucz : wartość. Każdy klucz musi być unikatowy. Ze względu na to klucze nie mogą się powtarzać. Wykorzystywane są, w chwili, gdy chcemy mieć powiązaną wartość z unikatowym obiektem. Drugim powodem jest ich szybkość. Pozwalają na szybki dostęp do danych, bo nie wymagane jest przeszukiwanie całej listy za wartością, a jest lokalizowana za pomocą klucza<br>\n",
    "<h4> Struktura dictionary </h4>\n",
    "nowy_dict={<br>\n",
    "    &emsp;klucz_1 : wartosc,<br>\n",
    "    &emsp;klucz_2 : wartosc,<br>\n",
    "    &emsp;}<br><br>\n",
    "Wartościami mogą być praktycznie wszystkie typy danych."
   ]
  },
  {
   "cell_type": "code",
   "execution_count": 14,
   "metadata": {},
   "outputs": [
    {
     "name": "stdout",
     "output_type": "stream",
     "text": [
      "vodka is good\n"
     ]
    }
   ],
   "source": [
    "dictionary={\n",
    "    'apple':'sweet',\n",
    "    'chilli':'hot',\n",
    "    'vodka':'good'\n",
    "}\n",
    "print(f'vodka is {dictionary[\"vodka\"]}')"
   ]
  },
  {
   "cell_type": "markdown",
   "metadata": {},
   "source": [
    "<style>  \n",
    "div {background-color:#093145;color:white}\n",
    "h3 {color:white}\n",
    "a {color:#1496BB}\n",
    "img {max-width:500px;max-height:250px;height:auto;width:auto;}\n",
    "span {position:absolute;right:1vw;font-size:150%;font-weight: bold;}\n",
    "span>a {color:aliceblue;}\n",
    "span>a:hover {color:#fc0349;}\n",
    "span>a.visited {color:#fc0349;}\n",
    "</style>\n",
    "<span id='dict_a_b'><a href='#top'>↑TOP↑</a></span>\n",
    "<h3>Opcje tworzenia dictionary:</h3>\n"
   ]
  },
  {
   "cell_type": "markdown",
   "metadata": {},
   "source": [
    "<style>  \n",
    "div {background-color:#093145;color:white}\n",
    "h3 {color:white}\n",
    "a {color:#1496BB}\n",
    "img {max-width:500px;max-height:250px;height:auto;width:auto;}\n",
    "span {position:absolute;right:1vw;font-size:150%;font-weight: bold;}\n",
    "span>a {color:aliceblue;}\n",
    "span>a:hover {color:#fc0349;}\n",
    "span>a.visited {color:#fc0349;}\n",
    "</style>\n",
    "Ze względu, że domyślnym zachowaniem dictionary jak nie istnieje klucz jest go dodanie, można to wykorzystać, żeby dodawać nowe pozycje"
   ]
  },
  {
   "cell_type": "code",
   "execution_count": 24,
   "metadata": {},
   "outputs": [
    {
     "name": "stdout",
     "output_type": "stream",
     "text": [
      "{}\n",
      "{'nowa_pozycja': 'jej_wartosc', 'nowa_pozycja_2': 'jej_wartosc'}\n",
      "{'nowa_pozycja': 'nowa_wartosc', 'nowa_pozycja_2': 'jej_wartosc'}\n"
     ]
    }
   ],
   "source": [
    "dictionary={}\n",
    "print(dictionary)\n",
    "dictionary['nowa_pozycja']='jej_wartosc'\n",
    "dictionary['nowa_pozycja_2']='jej_wartosc'\n",
    "print(dictionary)\n",
    "dictionary['nowa_pozycja']='nowa_wartosc'\n",
    "print(dictionary)"
   ]
  },
  {
   "cell_type": "markdown",
   "metadata": {},
   "source": [
    "<style>  \n",
    "div {background-color:#093145;color:white}\n",
    "h3 {color:white}\n",
    "a {color:#1496BB}\n",
    "img {max-width:500px;max-height:250px;height:auto;width:auto;}\n",
    "span {position:absolute;right:1vw;font-size:150%;font-weight: bold;}\n",
    "span>a {color:aliceblue;}\n",
    "span>a:hover {color:#fc0349;}\n",
    "span>a.visited {color:#fc0349;}\n",
    "</style>\n",
    "<span id='dict_a_up'> </span>\n",
    "Metodą update. Umieszcza ona parę klucz : wartość. Jeżeli nie istnieje jest dodana, a jak istnieje to zastępuje starą"
   ]
  },
  {
   "cell_type": "code",
   "execution_count": 28,
   "metadata": {},
   "outputs": [
    {
     "name": "stdout",
     "output_type": "stream",
     "text": [
      "{}\n",
      "{'nowy_klucz': 'jej_wartosc', 'nowy_klucz_2': 'jej_wartosc'}\n",
      "{'nowy_klucz': 'nowa_wartosc', 'nowy_klucz_2': 'jej_wartosc'}\n"
     ]
    }
   ],
   "source": [
    "dictionary={}\n",
    "print(dictionary)\n",
    "dictionary.update({'nowy_klucz':'jej_wartosc'})\n",
    "dictionary.update({'nowy_klucz_2':'jej_wartosc'})\n",
    "print(dictionary)\n",
    "dictionary.update({'nowy_klucz':'nowa_wartosc'})\n",
    "print(dictionary)"
   ]
  },
  {
   "cell_type": "markdown",
   "metadata": {},
   "source": [
    "<style>  \n",
    "div {background-color:#093145;color:white}\n",
    "h3 {color:white}\n",
    "a {color:#1496BB}\n",
    "img {max-width:500px;max-height:250px;height:auto;width:auto;}\n",
    "span {position:absolute;right:1vw;font-size:150%;font-weight: bold;}\n",
    "span>a {color:aliceblue;}\n",
    "span>a:hover {color:#fc0349;}\n",
    "span>a.visited {color:#fc0349;}\n",
    "</style>\n",
    "<p id='dict_a_keys'></p>\n",
    "Metodą .fromkeys(). Wykorzystywana, gdy mamy już zestawy kluczy, z których chcielibyśmy utworzyć dictionary. Domyślnie dla kluczy daje wartość None, ale można to zmienić dając parametr \n"
   ]
  },
  {
   "cell_type": "code",
   "execution_count": 34,
   "metadata": {},
   "outputs": [
    {
     "name": "stdout",
     "output_type": "stream",
     "text": [
      "{'klucz_1': None, 'klucz_2': None}\n",
      "{'klucz_1': True, 'klucz_2': True}\n"
     ]
    }
   ],
   "source": [
    "lista_kluczy=('klucz_1','klucz_2')\n",
    "wartosc=True\n",
    "\n",
    "dictionary=dict.fromkeys(lista_kluczy)\n",
    "print(dictionary)\n",
    "dictionary=dict.fromkeys(lista_kluczy,wartosc)\n",
    "print(dictionary)"
   ]
  },
  {
   "cell_type": "markdown",
   "metadata": {},
   "source": [
    "<style>  \n",
    "div {background-color:#093145;color:white}\n",
    "h3 {color:white}\n",
    "a {color:#1496BB}\n",
    "img {max-width:500px;max-height:250px;height:auto;width:auto;}\n",
    "span {position:absolute;right:1vw;font-size:150%;font-weight: bold;}\n",
    "span>a {color:aliceblue;}\n",
    "span>a:hover {color:#fc0349;}\n",
    "span>a.visited {color:#fc0349;}\n",
    "</style>\n",
    "<span id='dict_a_default'> </span>\n",
    "Metodą .setdefault(). Pozwala ona nam dodać klucz i wartość. Jest o tyle dobra, że jak klucz istnieje, to nie zmienia jego wartości, a tylko w innym wypadku tworzy nowy. Samo .setdefault() zwraca wartośc klucza przez nas podanego"
   ]
  },
  {
   "cell_type": "code",
   "execution_count": 38,
   "metadata": {},
   "outputs": [
    {
     "name": "stdout",
     "output_type": "stream",
     "text": [
      "Mustang\n",
      "{'brand': 'Ford', 'model': 'Mustang', 'year': 1964}\n",
      "white\n",
      "{'brand': 'Ford', 'model': 'Mustang', 'year': 1964, 'color': 'white'}\n"
     ]
    }
   ],
   "source": [
    "car = {\n",
    "  \"brand\": \"Ford\",\n",
    "  \"model\": \"Mustang\",\n",
    "  \"year\": 1964\n",
    "}\n",
    "\n",
    "x = car.setdefault(\"model\", \"Bronco\")\n",
    "print(x)\n",
    "print(car)\n",
    "x = car.setdefault(\"color\",\"white\")\n",
    "print(x)\n",
    "print(car)\n"
   ]
  },
  {
   "cell_type": "markdown",
   "metadata": {},
   "source": [
    "<style>  \n",
    "div {background-color:#093145;color:white}\n",
    "h3 {color:white}\n",
    "a {color:#1496BB}\n",
    "img {max-width:500px;max-height:250px;height:auto;width:auto;}\n",
    "span {position:absolute;right:1vw;font-size:150%;font-weight: bold;}\n",
    "span>a {color:aliceblue;}\n",
    "span>a:hover {color:#fc0349;}\n",
    "span>a.visited {color:#fc0349;}\n",
    "</style>\n",
    "<span><a href='#top'>↑TOP↑</a></span>\n",
    "<h3>Opcje pozyskiwania wartości dictionary:</h3>"
   ]
  },
  {
   "cell_type": "markdown",
   "metadata": {},
   "source": [
    "<style>  \n",
    "div {background-color:#093145;color:white}\n",
    "h3 {color:white}\n",
    "a {color:#1496BB}\n",
    "img {max-width:500px;max-height:250px;height:auto;width:auto;}\n",
    "span {position:absolute;right:1vw;font-size:150%;font-weight: bold;}\n",
    "span>a {color:aliceblue;}\n",
    "span>a:hover {color:#fc0349;}\n",
    "span>a.visited {color:#fc0349;}\n",
    "</style>\n",
    "<span id='dict_o_b'> </span>\n",
    "Metoda [ ]"
   ]
  },
  {
   "cell_type": "code",
   "execution_count": 5,
   "metadata": {},
   "outputs": [
    {
     "name": "stdout",
     "output_type": "stream",
     "text": [
      "wartosc\n"
     ]
    },
    {
     "ename": "KeyError",
     "evalue": "'klucz4'",
     "output_type": "error",
     "traceback": [
      "\u001b[1;31m---------------------------------------------------------------------------\u001b[0m",
      "\u001b[1;31mKeyError\u001b[0m                                  Traceback (most recent call last)",
      "\u001b[1;32m<ipython-input-5-cf79d5a0e3c4>\u001b[0m in \u001b[0;36m<module>\u001b[1;34m\u001b[0m\n\u001b[0;32m      5\u001b[0m }\n\u001b[0;32m      6\u001b[0m \u001b[0mprint\u001b[0m\u001b[1;33m(\u001b[0m\u001b[0mdictionary\u001b[0m\u001b[1;33m[\u001b[0m\u001b[1;34m'klucz1'\u001b[0m\u001b[1;33m]\u001b[0m\u001b[1;33m)\u001b[0m\u001b[1;33m\u001b[0m\u001b[1;33m\u001b[0m\u001b[0m\n\u001b[1;32m----> 7\u001b[1;33m \u001b[0mprint\u001b[0m\u001b[1;33m(\u001b[0m\u001b[0mdictionary\u001b[0m\u001b[1;33m[\u001b[0m\u001b[1;34m'klucz4'\u001b[0m\u001b[1;33m]\u001b[0m\u001b[1;33m)\u001b[0m \u001b[1;31m#zwraca blad, jak podany klucz nie istnieje\u001b[0m\u001b[1;33m\u001b[0m\u001b[1;33m\u001b[0m\u001b[0m\n\u001b[0m",
      "\u001b[1;31mKeyError\u001b[0m: 'klucz4'"
     ]
    }
   ],
   "source": [
    "dictionary={\n",
    "    'klucz1':'wartosc',\n",
    "    'klucz2':'wartosc2',\n",
    "    'klucz3':'wartosc3'\n",
    "}\n",
    "print(dictionary['klucz1'])\n",
    "print(dictionary['klucz4']) #zwraca blad, jak podany klucz nie istnieje"
   ]
  },
  {
   "cell_type": "markdown",
   "metadata": {},
   "source": [
    "<style>  \n",
    "div {background-color:#093145;color:white}\n",
    "h3 {color:white}\n",
    "a {color:#1496BB}\n",
    "img {max-width:500px;max-height:250px;height:auto;width:auto;}\n",
    "span {position:absolute;right:1vw;font-size:150%;font-weight: bold;}\n",
    "span>a {color:aliceblue;}\n",
    "span>a:hover {color:#fc0349;}\n",
    "span>a.visited {color:#fc0349;}\n",
    "</style>\n",
    "<span id='dict_o_get'> </span>\n",
    "Metoda .get()\n"
   ]
  },
  {
   "cell_type": "code",
   "execution_count": 9,
   "metadata": {},
   "outputs": [
    {
     "name": "stdout",
     "output_type": "stream",
     "text": [
      "wartosc\n",
      "None\n",
      "wartosc_zapasowa\n"
     ]
    }
   ],
   "source": [
    "dictionary={\n",
    "    'klucz1':'wartosc',\n",
    "    'klucz2':'wartosc2',\n",
    "    'klucz3':'wartosc3'\n",
    "}\n",
    "print(dictionary.get('klucz1'))\n",
    "print(dictionary.get('klucz4'))                     #zwraca None jak klucz nie istnieje\n",
    "print(dictionary.get('klucz4','wartosc_zapasowa'))  #pozwala na drugi parametr, ktory zwrocony jak wartosc nie istnieje"
   ]
  },
  {
   "cell_type": "markdown",
   "metadata": {},
   "source": [
    "<style>  \n",
    "div {background-color:#093145;color:white}\n",
    "h3 {color:white}\n",
    "a {color:#1496BB}\n",
    "img {max-width:500px;max-height:250px;height:auto;width:auto;}\n",
    "span {position:absolute;right:1vw;font-size:150%;font-weight: bold;}\n",
    "span>a {color:aliceblue;}\n",
    "span>a:hover {color:#fc0349;}\n",
    "span>a.visited {color:#fc0349;}\n",
    "</style>\n",
    "<span id='dict_o_val'> </span>\n",
    "Metoda .keys() .values(). Jedna zwraca listę kluczy, a druga listę wartości. Można to wykorzystać też do pętli for "
   ]
  },
  {
   "cell_type": "code",
   "execution_count": 1,
   "metadata": {},
   "outputs": [
    {
     "name": "stdout",
     "output_type": "stream",
     "text": [
      "dict_keys(['klucz1', 'klucz2', 'klucz3'])\n",
      "dict_values(['wartosc', 'wartosc2', 'wartosc3'])\n"
     ]
    }
   ],
   "source": [
    "dictionary={\n",
    "    'klucz1':'wartosc',\n",
    "    'klucz2':'wartosc2',\n",
    "    'klucz3':'wartosc3'\n",
    "}\n",
    "klucze=dictionary.keys()\n",
    "print(klucze)\n",
    "wartosci=dictionary.values()\n",
    "print(wartosci)\n"
   ]
  },
  {
   "cell_type": "markdown",
   "metadata": {},
   "source": [
    "<style>  \n",
    "div {background-color:#093145;color:white}\n",
    "h3 {color:white}\n",
    "a {color:#1496BB}\n",
    "img {max-width:500px;max-height:250px;height:auto;width:auto;}\n",
    "span {position:absolute;right:1vw;font-size:150%;font-weight: bold;}\n",
    "span>a {color:aliceblue;}\n",
    "span>a:hover {color:#fc0349;}\n",
    "span>a.visited {color:#fc0349;}\n",
    "</style>\n",
    "<span><a href='#top'>↑TOP↑</a></span>\n",
    "<h3 id='dict_for'>Używanie dictionary z pętlą for:</h3>"
   ]
  },
  {
   "cell_type": "code",
   "execution_count": 2,
   "metadata": {},
   "outputs": [
    {
     "name": "stdout",
     "output_type": "stream",
     "text": [
      "klucz1 wartosc\n",
      "klucz2 wartosc2\n",
      "klucz3 wartosc3\n"
     ]
    }
   ],
   "source": [
    "dictionary={\n",
    "    'klucz1':'wartosc',\n",
    "    'klucz2':'wartosc2',\n",
    "    'klucz3':'wartosc3'\n",
    "}\n",
    "for klucz in dictionary:\n",
    "    print(klucz,dictionary.get(klucz))"
   ]
  },
  {
   "cell_type": "code",
   "execution_count": 28,
   "metadata": {},
   "outputs": [
    {
     "name": "stdout",
     "output_type": "stream",
     "text": [
      "klucz1 wartosc\n",
      "klucz2 wartosc2\n",
      "klucz3 wartosc3\n"
     ]
    }
   ],
   "source": [
    "dictionary={\n",
    "    'klucz1':'wartosc',\n",
    "    'klucz2':'wartosc2',\n",
    "    'klucz3':'wartosc3'\n",
    "}\n",
    "klucze=dictionary.keys()\n",
    "wartosci=dictionary.values()\n",
    "\n",
    "for klucz,wartosc in zip(klucze,wartosci):   #używane zip( )\n",
    "    print(klucz,wartosc)"
   ]
  },
  {
   "cell_type": "markdown",
   "metadata": {},
   "source": [
    "<style>  \n",
    "div {background-color:#093145;color:white}\n",
    "h3 {color:white}\n",
    "a {color:#1496BB}\n",
    "img {max-width:500px;max-height:250px;height:auto;width:auto;}\n",
    "span {position:absolute;right:1vw;font-size:150%;font-weight: bold;}\n",
    "span>a {color:aliceblue;}\n",
    "span>a:hover {color:#fc0349;}\n",
    "span>a.visited {color:#fc0349;}\n",
    "</style>\n",
    "<span><a href='#top'>↑TOP↑</a></span>\n",
    "<h3>Usuwanie obiektów z dictionary </h3>\n"
   ]
  },
  {
   "cell_type": "markdown",
   "metadata": {},
   "source": [
    "<style>  \n",
    "div {background-color:#093145;color:white}\n",
    "h3 {color:white}\n",
    "a {color:#1496BB}\n",
    "img {max-width:500px;max-height:250px;height:auto;width:auto;}\n",
    "span {position:absolute;right:1vw;font-size:150%;font-weight: bold;}\n",
    "span>a {color:aliceblue;}\n",
    "span>a:hover {color:#fc0349;}\n",
    "span>a.visited {color:#fc0349;}\n",
    "</style>\n",
    "<span id='dict_r_pop'> </span>\n",
    "Metodą pop(). Usuwa wartość po kluczu"
   ]
  },
  {
   "cell_type": "code",
   "execution_count": 36,
   "metadata": {},
   "outputs": [
    {
     "name": "stdout",
     "output_type": "stream",
     "text": [
      "{'klucz2': 'wartosc2', 'klucz3': 'wartosc3'}\n",
      "{'klucz2': 'wartosc2', 'klucz3': 'wartosc3'}\n"
     ]
    },
    {
     "ename": "KeyError",
     "evalue": "'klucz1'",
     "output_type": "error",
     "traceback": [
      "\u001b[1;31m---------------------------------------------------------------------------\u001b[0m",
      "\u001b[1;31mKeyError\u001b[0m                                  Traceback (most recent call last)",
      "\u001b[1;32m<ipython-input-36-ad5898e9fc5c>\u001b[0m in \u001b[0;36m<module>\u001b[1;34m\u001b[0m\n\u001b[0;32m      8\u001b[0m \u001b[0mdictionary\u001b[0m\u001b[1;33m.\u001b[0m\u001b[0mpop\u001b[0m\u001b[1;33m(\u001b[0m\u001b[1;34m'klucz1'\u001b[0m\u001b[1;33m,\u001b[0m\u001b[1;34m'nie istnial'\u001b[0m\u001b[1;33m)\u001b[0m \u001b[1;31m#zwraca drugi parametr, jezeli nie istnial klucz\u001b[0m\u001b[1;33m\u001b[0m\u001b[1;33m\u001b[0m\u001b[0m\n\u001b[0;32m      9\u001b[0m \u001b[0mprint\u001b[0m\u001b[1;33m(\u001b[0m\u001b[0mdictionary\u001b[0m\u001b[1;33m)\u001b[0m\u001b[1;33m\u001b[0m\u001b[1;33m\u001b[0m\u001b[0m\n\u001b[1;32m---> 10\u001b[1;33m \u001b[0mdictionary\u001b[0m\u001b[1;33m.\u001b[0m\u001b[0mpop\u001b[0m\u001b[1;33m(\u001b[0m\u001b[1;34m'klucz1'\u001b[0m\u001b[1;33m)\u001b[0m    \u001b[1;31m#wyrzuca blad, jezeli nie istnial klucz, a nie podano 2 parametr\u001b[0m\u001b[1;33m\u001b[0m\u001b[1;33m\u001b[0m\u001b[0m\n\u001b[0m\u001b[0;32m     11\u001b[0m \u001b[0mprint\u001b[0m\u001b[1;33m(\u001b[0m\u001b[0mdictionary\u001b[0m\u001b[1;33m)\u001b[0m\u001b[1;33m\u001b[0m\u001b[1;33m\u001b[0m\u001b[0m\n",
      "\u001b[1;31mKeyError\u001b[0m: 'klucz1'"
     ]
    }
   ],
   "source": [
    "dictionary={\n",
    "    'klucz1':'wartosc',\n",
    "    'klucz2':'wartosc2',\n",
    "    'klucz3':'wartosc3'\n",
    "}\n",
    "dictionary.pop('klucz1')\n",
    "print(dictionary)\n",
    "dictionary.pop('klucz1','nie istnial') #zwraca drugi parametr, jezeli nie istnial klucz\n",
    "print(dictionary)\n",
    "dictionary.pop('klucz1')    #wyrzuca blad, jezeli nie istnial klucz, a nie podano 2 parametr\n",
    "print(dictionary)\n"
   ]
  },
  {
   "cell_type": "markdown",
   "metadata": {},
   "source": [
    "<style>  \n",
    "div {background-color:#093145;color:white}\n",
    "h3 {color:white}\n",
    "a {color:#1496BB}\n",
    "img {max-width:500px;max-height:250px;height:auto;width:auto;}\n",
    "span {position:absolute;right:1vw;font-size:150%;font-weight: bold;}\n",
    "span>a {color:aliceblue;}\n",
    "span>a:hover {color:#fc0349;}\n",
    "span>a.visited {color:#fc0349;}\n",
    "</style>\n",
    "<span id='dict_r_popitem'> </span>\n",
    "Metodą popitem(). Usuwa ostatnią pozycję z dictionary. Wartością zwrotną jest usunięta pozycja"
   ]
  },
  {
   "cell_type": "code",
   "execution_count": 39,
   "metadata": {},
   "outputs": [
    {
     "name": "stdout",
     "output_type": "stream",
     "text": [
      "('year', 1964)\n",
      "{'brand': 'Ford', 'model': 'Mustang'}\n"
     ]
    }
   ],
   "source": [
    "car = {\n",
    "  \"brand\": \"Ford\",\n",
    "  \"model\": \"Mustang\",\n",
    "  \"year\": 1964\n",
    "}\n",
    "\n",
    "x = car.popitem()\n",
    "print(x)\n",
    "print(car)"
   ]
  },
  {
   "cell_type": "markdown",
   "metadata": {},
   "source": [
    "<style>  \n",
    "div {background-color:#093145;color:white}\n",
    "h3 {color:white}\n",
    "a {color:#1496BB}\n",
    "img {max-width:500px;max-height:250px;height:auto;width:auto;}\n",
    "span {position:absolute;right:1vw;font-size:150%;font-weight: bold;}\n",
    "span>a {color:aliceblue;}\n",
    "span>a:hover {color:#fc0349;}\n",
    "span>a.visited {color:#fc0349;}\n",
    "</style>\n",
    "<span id='dict_clear'> </span>\n",
    "Metodą clear(). Czyści cały dictionary"
   ]
  },
  {
   "cell_type": "code",
   "execution_count": 40,
   "metadata": {},
   "outputs": [
    {
     "name": "stdout",
     "output_type": "stream",
     "text": [
      "{}\n"
     ]
    }
   ],
   "source": [
    "dictionary={\n",
    "    'klucz1':'wartosc',\n",
    "    'klucz2':'wartosc2',\n",
    "    'klucz3':'wartosc3'\n",
    "}\n",
    "dictionary.clear()\n",
    "print(dictionary)"
   ]
  },
  {
   "cell_type": "markdown",
   "metadata": {},
   "source": [
    "<style>  \n",
    "div {background-color:#CD594A;color:white}\n",
    "h3 {color:white}\n",
    "a {color:#1496BB}\n",
    "img {max-width:500px;max-height:250px;height:auto;width:auto;}\n",
    "span {position:absolute;right:1vw;font-size:150%;font-weight: bold;}\n",
    "span>a {color:aliceblue;}\n",
    "span>a:hover {color:#fc0349;}\n",
    "span>a.visited {color:#fc0349;}\n",
    "</style>\n",
    "W tym momencie warto zwrócić uwagę czemu w używamy metod do czyszczenia obieków jak list, dictionary itp. zamiast użyć dictionary={ }<br>\n",
    "W ten sposób w naszym poprzednim dictionary będziemy mieć puste. Ale powstaje problem. W ten sposób do naszej zmiennej przypisaliśmy nową instancję pustego dictionary, a nie pozbyliśmy się starego z pamięci. Żeby pozbyć się niepotrzebnych śmieci z pamięci należy używać wbudowanych metod czyszczenia, a niepotrzebne nam obiekty usuwać używając <b>obiekt.del()</b>"
   ]
  },
  {
   "cell_type": "markdown",
   "metadata": {},
   "source": [
    "<style>  \n",
    "div {background-color:#093145;color:white}\n",
    "h3 {color:white}\n",
    "a {color:#1496BB}\n",
    "img {max-width:500px;max-height:250px;height:auto;width:auto;}\n",
    "span {position:absolute;right:1vw;font-size:150%;font-weight: bold;}\n",
    "span>a {color:aliceblue;}\n",
    "span>a:hover {color:#fc0349;}\n",
    "span>a.visited {color:#fc0349;}\n",
    "</style>\n",
    "<span id='dict_problems'><a href='#top'>↑TOP↑</a></span>\n",
    "<h4>Przykładowe metody rozwiazywania problemow z dictionary"
   ]
  },
  {
   "cell_type": "markdown",
   "metadata": {},
   "source": [
    "<style>  \n",
    "div {background-color:#093145;color:white}\n",
    "h3 {color:white}\n",
    "a {color:#1496BB}\n",
    "img {max-width:500px;max-height:250px;height:auto;width:auto;}\n",
    "span {position:absolute;right:1vw;font-size:150%;font-weight: bold;}\n",
    "span>a {color:aliceblue;}\n",
    "span>a:hover {color:#fc0349;}\n",
    "span>a.visited {color:#fc0349;}\n",
    "</style>\n",
    "Użycie metody [ ] do odczytywania z uwzglednieniem braku klucza"
   ]
  },
  {
   "cell_type": "code",
   "execution_count": 4,
   "metadata": {},
   "outputs": [
    {
     "name": "stdout",
     "output_type": "stream",
     "text": [
      "None\n"
     ]
    }
   ],
   "source": [
    "dictionary={\n",
    "    'klucz1':'wartosc',\n",
    "    'klucz2':'wartosc2',\n",
    "    'klucz3':'wartosc3'\n",
    "}\n",
    "print(dictionary['klucz4']) if 'klucz4' in dictionary else print(None)  #gdy klucz nie istnieje, a uzywamy metody [ ]"
   ]
  },
  {
   "cell_type": "markdown",
   "metadata": {},
   "source": [
    "<style>  \n",
    "div {background-color:#093145;color:white}\n",
    "h3 {color:white}\n",
    "a {color:#1496BB}\n",
    "img {max-width:500px;max-height:250px;height:auto;width:auto;}\n",
    "span {position:absolute;right:1vw;font-size:150%;font-weight: bold;}\n",
    "span>a {color:aliceblue;}\n",
    "span>a:hover {color:#fc0349;}\n",
    "span>a.visited {color:#fc0349;}\n",
    "</style>\n",
    "Wsadzenie par z tabeli do dictionary"
   ]
  },
  {
   "cell_type": "code",
   "execution_count": 14,
   "metadata": {},
   "outputs": [
    {
     "name": "stdout",
     "output_type": "stream",
     "text": [
      "{1: 'a', 2: 'b', 3: 'c'}\n"
     ]
    }
   ],
   "source": [
    "dictionary={}\n",
    "pozycje_do_wsadzenia=[\n",
    "    [1,'a'],\n",
    "    [2,'b'],\n",
    "    [3,'c']\n",
    "    ]\n",
    "for i in pozycje_do_wsadzenia:\n",
    "    dictionary[i[0]]=i[1]\n",
    "print(dictionary)"
   ]
  },
  {
   "cell_type": "markdown",
   "metadata": {},
   "source": [
    "<style>  \n",
    "div {background-color:#093145;color:white}\n",
    "h3 {color:white}\n",
    "a {color:#1496BB}\n",
    "img {max-width:500px;max-height:250px;height:auto;width:auto;}\n",
    "span {position:absolute;right:1vw;font-size:150%;font-weight: bold;}\n",
    "span>a {color:aliceblue;}\n",
    "span>a:hover {color:#fc0349;}\n",
    "span>a.visited {color:#fc0349;}\n",
    "</style>\n",
    "Wsadzenie par z tabeli z uwzglednieniem, co jezeli juz istnieją. W tym przypadku ich wyniki były łączone"
   ]
  },
  {
   "cell_type": "code",
   "execution_count": 16,
   "metadata": {},
   "outputs": [
    {
     "name": "stdout",
     "output_type": "stream",
     "text": [
      "{1: 'az', 2: 'ba', 3: 'c'}\n"
     ]
    }
   ],
   "source": [
    "dictionary={}\n",
    "pozycje_do_wsadzenia=[\n",
    "    [1,'a'],\n",
    "    [2,'b'],\n",
    "    [3,'c'],\n",
    "    [1,'z'],\n",
    "    [2,'a']\n",
    "    ]\n",
    "for i in pozycje_do_wsadzenia:\n",
    "    if i[0] in dictionary:\n",
    "        dictionary[i[0]]=f'{dictionary[i[0]]}{(i[1])}'\n",
    "    else:\n",
    "        dictionary[i[0]]=i[1]\n",
    "print(dictionary)"
   ]
  },
  {
   "cell_type": "markdown",
   "metadata": {},
   "source": [
    "<style>  \n",
    "div {background-color:#093145;color:white}\n",
    "h3 {color:white}\n",
    "a {color:#1496BB}\n",
    "img {max-width:500px;max-height:250px;height:auto;width:auto;}\n",
    "span {position:absolute;right:1vw;font-size:150%;font-weight: bold;}\n",
    "span>a {color:aliceblue;}\n",
    "span>a:hover {color:#fc0349;}\n",
    "span>a.visited {color:#fc0349;}\n",
    "</style>\n",
    "<span><a href='#top'>↑TOP↑</a></span>\n",
    "<h4>Przedstawione powyżej przykłady wykonaj używając wbudowanych mechanizmów w dictionary"
   ]
  },
  {
   "cell_type": "markdown",
   "metadata": {},
   "source": [
    "<style>  \n",
    "div {background-color:#093145;color:white}\n",
    "h3 {color:white}\n",
    "a {color:#1496BB}\n",
    "img {max-width:500px;max-height:250px;height:auto;width:auto;}\n",
    "span {position:absolute;right:1vw;font-size:150%;font-weight: bold;}\n",
    "span>a {color:aliceblue;}\n",
    "span>a:hover {color:#fc0349;}\n",
    "span>a.visited {color:#fc0349;}\n",
    "</style>\n",
    "<span id='zad2'></span>\n",
    "Przyporządkuj klucze z tabeli 1 do tabeli 2 i umieść w dictionary. W przypadku gdy występuje kilka razy ten sam klucz, wartości mu odpowiadające połącz w tabelę"
   ]
  },
  {
   "cell_type": "code",
   "execution_count": 57,
   "metadata": {},
   "outputs": [],
   "source": [
    "l1=[1,2,3,4,5,6,8,9,1,2,3,1]\n",
    "l2=[[6,5,8],\n",
    "    [2,5,0],\n",
    "    [6,8,10],\n",
    "    [6,6,1],\n",
    "    [1,10,3],\n",
    "    [4,9,5],\n",
    "    [7,1,10],\n",
    "    [0,7,3],\n",
    "    [8,6,10],\n",
    "    [4,0,7],\n",
    "    [4,8,3],\n",
    "    [6,2,6]]"
   ]
  },
  {
   "cell_type": "markdown",
   "metadata": {},
   "source": [
    "<style>  \n",
    "div {background-color:#093145;color:white}\n",
    "h3 {color:white}\n",
    "a {color:#1496BB}\n",
    "img {max-width:500px;max-height:250px;height:auto;width:auto;}\n",
    "span {position:absolute;right:1vw;font-size:150%;font-weight: bold;}\n",
    "span>a {color:aliceblue;}\n",
    "span>a:hover {color:#fc0349;}\n",
    "span>a.visited {color:#fc0349;}\n",
    "</style>\n",
    "Teraz wyświetl klucze z poprzedniego zadania w kolejności od najmniejszego do największego (posortuj na podstawie mediany wartości z listy, a nie samej liczby reprezentującej klucz)<br>\n",
    "Przykład:<br>\n",
    "d={1: [0, 5], 2: [1, 3]}<br>\n",
    "wynik: 2,1<br>\n",
    "mediana dla 1 : 2.5<br>\n",
    "mediana dla 2 : 2<br>\n",
    "sortujemy od najmniejszej od największej, więc wynik to 2,1"
   ]
  },
  {
   "cell_type": "markdown",
   "metadata": {},
   "source": [
    "<style>  \n",
    "div {background-color:#093145;color:white}\n",
    "h3 {color:white}\n",
    "a {color:#1496BB}\n",
    "img {max-width:500px;max-height:250px;height:auto;width:auto;}\n",
    "span {position:absolute;right:1vw;font-size:150%;font-weight: bold;}\n",
    "span>a {color:aliceblue;}\n",
    "span>a:hover {color:#fc0349;}\n",
    "span>a.visited {color:#fc0349;}\n",
    "</style>\n",
    "Połącz podane dictionary w jeden większy"
   ]
  },
  {
   "cell_type": "code",
   "execution_count": null,
   "metadata": {},
   "outputs": [],
   "source": [
    "d1={1:1,2:2}\n",
    "d2={3:3,4:4}\n",
    "d3={5:5,6:6}"
   ]
  },
  {
   "cell_type": "markdown",
   "metadata": {},
   "source": [
    "<style>  \n",
    "div {background-color:#093145;color:white}\n",
    "h3 {color:white}\n",
    "a {color:#1496BB}\n",
    "img {max-width:500px;max-height:250px;height:auto;width:auto;}\n",
    "span {position:absolute;right:1vw;font-size:150%;font-weight: bold;}\n",
    "span>a {color:aliceblue;}\n",
    "span>a:hover {color:#fc0349;}\n",
    "span>a.visited {color:#fc0349;}\n",
    "</style>\n",
    "Zsumuj wszystkie obiekty w dictionary i porównaj z sumą kluczy. Która jest większa? o ile?"
   ]
  },
  {
   "cell_type": "code",
   "execution_count": 58,
   "metadata": {},
   "outputs": [],
   "source": [
    "dictionary={\n",
    "    616:259,\n",
    "    694:814,\n",
    "    263:727,\n",
    "    708:807,\n",
    "    367:361,\n",
    "    697:969,\n",
    "    609:443,\n",
    "    287:879,\n",
    "    977:588,\n",
    "    184:644,\n",
    "    485:191,\n",
    "    374:242,\n",
    "    727:260,\n",
    "    203:814,\n",
    "    671:207,\n",
    "    92:780,\n",
    "    143:210,\n",
    "    178:83,\n",
    "    903:97,\n",
    "    75:392,\n",
    "    982:83,\n",
    "    438:748,\n",
    "    187:218,\n",
    "    482:786,\n",
    "    966:457,\n",
    "    937:170,\n",
    "    909:821,\n",
    "    920:912,\n",
    "    997:531,\n",
    "    468:401,\n",
    "    806:799,\n",
    "    51:404,\n",
    "    957:775,\n",
    "    429:9,\n",
    "    945:674,\n",
    "    987:369,\n",
    "    780:897,\n",
    "    464:896,\n",
    "    173:875,\n",
    "    701:691,\n",
    "    457:982,\n",
    "    578:14,\n",
    "    938:749,\n",
    "    221:251,\n",
    "    673:770,\n",
    "    135:523,\n",
    "    892:548,\n",
    "    691:725,\n",
    "    104:460,\n",
    "    163:255,\n",
    "    815:744,\n",
    "    89:929,\n",
    "    834:894,\n",
    "    643:838,\n",
    "    835:788,\n",
    "    898:574,\n",
    "    589:76,\n",
    "    901:745,\n",
    "    360:854,\n",
    "    78:632,\n",
    "    82:9,\n",
    "    66:797,\n",
    "    463:671,\n",
    "    317:834,\n",
    "    513:776,\n",
    "    257:615,\n",
    "    81:398,\n",
    "    302:336,\n",
    "    478:604,\n",
    "    377:411,\n",
    "    180:182,\n",
    "    358:38,\n",
    "    10:751,\n",
    "    77:209,\n",
    "    310:944,\n",
    "    301:539,\n",
    "    631:178,\n",
    "    514:144,\n",
    "    661:127,\n",
    "    907:694,\n",
    "    15:781,\n",
    "    166:69,\n",
    "    964:594,\n",
    "    955:579,\n",
    "    621:304,\n",
    "    929:956,\n",
    "    796:877,\n",
    "    154:863,\n",
    "    354:878,\n",
    "    113:246,\n",
    "    949:858,\n",
    "    21:927,\n",
    "    637:80,\n",
    "    492:381,\n",
    "    912:243,\n",
    "    991:441,\n",
    "    693:807,\n",
    "    47:618,\n",
    "    552:293,\n",
    "    553:759\n",
    "}"
   ]
  },
  {
   "cell_type": "markdown",
   "metadata": {},
   "source": [
    "<style>  \n",
    "div {background-color:#093145;color:white}\n",
    "h3 {color:white}\n",
    "a {color:#1496BB}\n",
    "img {max-width:500px;max-height:250px;height:auto;width:auto;}\n",
    "span {position:absolute;right:1vw;font-size:150%;font-weight: bold;}\n",
    "span>a {color:aliceblue;}\n",
    "span>a:hover {color:#fc0349;}\n",
    "span>a.visited {color:#fc0349;}\n",
    "</style>\n",
    "W dictionary umieść dane z listy. Dane mają być w formacie nazwa_ptaka : {miejsce_widzenia : ilość_razy, następne_miejsce : ilość_razy}.<br>\n",
    "Więc kluczem dictionary będzie nazwa ptaka, a wartością kolejny dictionary, w którym kluczami są miejsca gdzie widziano ptaka, a wartością ich ilość<br>\n",
    "Przykład:<br>\n",
    "wiewiórka : {<br>\n",
    "&emsp;drzewo : 3<br>\n",
    "&emsp;trawa : 2<br>\n",
    "&emsp;taras : 1}"
   ]
  },
  {
   "cell_type": "code",
   "execution_count": 60,
   "metadata": {},
   "outputs": [],
   "source": [
    "ptaki_i_ich_widzenia=[\n",
    "    ['sikorka', 'rzeka'],   \n",
    "    ['wróbel', 'rzeka'],    \n",
    "    ['raniuszek', 'las'],   \n",
    "    ['dzwoniec', 'miasto'], \n",
    "    ['dzięcioł', 'łąka'],   \n",
    "    ['sikorka', 'strych'],  \n",
    "    ['szpak', 'łąka'],      \n",
    "    ['sikorka', 'las'],     \n",
    "    ['wróbel', 'miasto'],   \n",
    "    ['sierpówka', 'miasto'],\n",
    "    ['kwiczoł', 'rzeka'],   \n",
    "    ['kos', 'strych'],      \n",
    "    ['sikorka', 'rzeka'],   \n",
    "    ['dzięcioł', 'miasto'], \n",
    "    ['dzięcioł', 'miasto'],\n",
    "    ['wróbel', 'góry'],\n",
    "    ['wróbel', 'miasto'],\n",
    "    ['wróbel', 'góry'],\n",
    "    ['szpak', 'morze'],\n",
    "    ['dzwoniec', 'góry'],\n",
    "    ['szpak', 'strych'],\n",
    "    ['wróbel', 'rzeka'],\n",
    "    ['wróbel', 'morze'],\n",
    "    ['raniuszek', 'las'],\n",
    "    ['kwiczoł', 'miasto'],\n",
    "    ['sierpówka', 'morze'],\n",
    "    ['kos', 'rzeka'],\n",
    "    ['kos', 'strych'],\n",
    "    ['rudzik', 'łąka'],\n",
    "    ['raniuszek', 'morze'],\n",
    "    ['dzwoniec', 'łąka'],\n",
    "    ['raniuszek', 'morze'],\n",
    "    ['kwiczoł', 'góry'],\n",
    "    ['dzięcioł', 'morze'],\n",
    "    ['wróbel', 'las'],\n",
    "    ['sikorka', 'rzeka'],\n",
    "    ['kos', 'góry'],\n",
    "    ['dzięcioł', 'morze'],\n",
    "    ['sikorka', 'strych'],\n",
    "    ['sikorka', 'strych'],\n",
    "    ['sikorka', 'strych'],\n",
    "    ['rudzik', 'morze'],\n",
    "    ['raniuszek', 'miasto'],\n",
    "    ['kwiczoł', 'łąka'],\n",
    "    ['kwiczoł', 'las'],\n",
    "    ['wróbel', 'łąka'],\n",
    "    ['dzięcioł', 'morze'],\n",
    "    ['dzięcioł', 'morze'],\n",
    "    ['dzięcioł', 'las'],\n",
    "    ['sikorka', 'morze'],\n",
    "    ['szpak', 'rzeka'],\n",
    "    ['kos', 'rzeka'],\n",
    "    ['dzwoniec', 'morze'],\n",
    "    ['sierpówka', 'łąka'],\n",
    "    ['kwiczoł', 'morze'],\n",
    "    ['szpak', 'las'],\n",
    "    ['raniuszek', 'miasto'],\n",
    "    ['dzięcioł', 'łąka'],\n",
    "    ['raniuszek', 'rzeka'],\n",
    "    ['kos', 'góry'],\n",
    "    ['sierpówka', 'łąka'],\n",
    "    ['dzwoniec', 'góry'],\n",
    "    ['dzięcioł', 'miasto'],\n",
    "    ['kwiczoł', 'góry'],\n",
    "    ['kwiczoł', 'miasto'],\n",
    "    ['sikorka', 'morze'],\n",
    "    ['raniuszek', 'miasto'],\n",
    "    ['wróbel', 'rzeka'],\n",
    "    ['kwiczoł', 'rzeka'],\n",
    "    ['szpak', 'las'],\n",
    "    ['kos', 'góry'],\n",
    "    ['sikorka', 'las'],\n",
    "    ['dzięcioł', 'strych'],\n",
    "    ['kos', 'rzeka'],\n",
    "    ['sikorka', 'morze'],\n",
    "    ['kwiczoł', 'strych'],\n",
    "    ['wróbel', 'rzeka'],\n",
    "    ['kos', 'las'],\n",
    "    ['kwiczoł', 'góry'],\n",
    "    ['raniuszek', 'morze'],\n",
    "    ['sikorka', 'łąka'],\n",
    "    ['szpak', 'strych'],\n",
    "    ['kwiczoł', 'morze'],\n",
    "    ['szpak', 'morze'],\n",
    "    ['sierpówka', 'łąka'],\n",
    "    ['kwiczoł', 'łąka'],\n",
    "    ['raniuszek', 'morze'],\n",
    "    ['szpak', 'góry'],\n",
    "    ['sierpówka', 'rzeka'],\n",
    "    ['szpak', 'morze'],\n",
    "    ['sikorka', 'góry'],\n",
    "    ['wróbel', 'las'],\n",
    "    ['rudzik', 'łąka'],\n",
    "    ['kwiczoł', 'miasto'],\n",
    "    ['sierpówka', 'las'],\n",
    "    ['sikorka', 'góry'],\n",
    "    ['sikorka', 'góry'],\n",
    "    ['wróbel', 'góry'],\n",
    "    ['dzięcioł', 'rzeka'],\n",
    "    ['kos', 'łąka']]"
   ]
  },
  {
   "cell_type": "markdown",
   "metadata": {},
   "source": [
    "<style>  \n",
    "div {background-color:#093145;color:white}\n",
    "h3 {color:white}\n",
    "a {color:#1496BB}\n",
    "img {max-width:500px;max-height:250px;height:auto;width:auto;}\n",
    "span {position:absolute;right:1vw;font-size:150%;font-weight: bold;}\n",
    "span>a {color:aliceblue;}\n",
    "span>a:hover {color:#fc0349;}\n",
    "span>a.visited {color:#fc0349;}\n",
    "</style>\n",
    "Którego ptaka widziano najwięcej?<br>\n",
    "Którego ptaka widziano najmniej?<br>\n",
    "Dla każdego ptaka wyświetl gdzie był najwięcej razy widziany, a gdzie najmniej<br>\n",
    "Czy któregoś z ptaków nie było w jakimś miejscu? Jeżeli tak to jakiego i gdzie?"
   ]
  },
  {
   "cell_type": "markdown",
   "metadata": {},
   "source": [
    "<style>  \n",
    "div {background-color:#093145;color:white}\n",
    "h3 {color:white}\n",
    "a {color:#1496BB}\n",
    "img {max-width:500px;max-height:250px;height:auto;width:auto;}\n",
    "span {position:absolute;right:1vw;font-size:150%;font-weight: bold;}\n",
    "span>a {color:aliceblue;}\n",
    "span>a:hover {color:#fc0349;}\n",
    "span>a.visited {color:#fc0349;}\n",
    "</style>\n",
    "<span><a href='#top'>↑TOP↑</a></span>\n",
    "<h3>Funkcja lambda</h3>\n",
    "Jest to mała anonimowa funkcja. Oznacza to, że nie można zobaczyć jej stanu w trakcie działania, a tylko wynik. Może wykonać ona tylko 1 operację<br>\n",
    "<h4 id='lambda'>Struktura lambdy: </h4>\n",
    "zmienna = lambda argument : operacja"
   ]
  },
  {
   "cell_type": "code",
   "execution_count": 43,
   "metadata": {},
   "outputs": [
    {
     "name": "stdout",
     "output_type": "stream",
     "text": [
      "15\n"
     ]
    }
   ],
   "source": [
    "x = lambda a: a+10\n",
    "print(x(5))"
   ]
  },
  {
   "cell_type": "code",
   "execution_count": 46,
   "metadata": {},
   "outputs": [
    {
     "name": "stdout",
     "output_type": "stream",
     "text": [
      "36\n"
     ]
    }
   ],
   "source": [
    "kwadrat_sumy = lambda a,b,c : (a+b+c)*(a+b+c)\n",
    "print(kwadrat_sumy(1,2,3))"
   ]
  },
  {
   "cell_type": "markdown",
   "metadata": {},
   "source": [
    "<style>  \n",
    "div {background-color:#093145;color:white}\n",
    "h3 {color:white}\n",
    "a {color:#1496BB}\n",
    "img {max-width:500px;max-height:250px;height:auto;width:auto;}\n",
    "span {position:absolute;right:1vw;font-size:150%;font-weight: bold;}\n",
    "span>a {color:aliceblue;}\n",
    "span>a:hover {color:#fc0349;}\n",
    "span>a.visited {color:#fc0349;}\n",
    "</style>\n",
    "Funkcja map(funkcja,obiekty). W pierwszym argumencie przyjmuje funkcje, którą wywoła dla każdego z obiektów"
   ]
  },
  {
   "cell_type": "code",
   "execution_count": 56,
   "metadata": {},
   "outputs": [
    {
     "name": "stdout",
     "output_type": "stream",
     "text": [
      "[30, 60, 90]\n"
     ]
    }
   ],
   "source": [
    "lista=[\n",
    "    [1,3],\n",
    "    [2,6],\n",
    "    [3,9]\n",
    "]\n",
    "x= lambda pos: pos[1]*10\n",
    "list(map(x,lista))\n",
    "print(list(map(x,lista)))\n"
   ]
  },
  {
   "cell_type": "markdown",
   "metadata": {},
   "source": [
    "###dokończyć i zagłębić w lambdę oraz map i filter"
   ]
  },
  {
   "cell_type": "markdown",
   "metadata": {},
   "source": [
    "####FUNKCJE DLA TEKSTU I REGEX PATTERNY"
   ]
  },
  {
   "cell_type": "markdown",
   "metadata": {},
   "source": [
    "####TROCHE POZNO, ALE FUNKCJE(parametry domyslne,*args,**kwargs),FUNKCJE REKURSYWNE,generatory no i .next() dla obiektow"
   ]
  },
  {
   "cell_type": "markdown",
   "metadata": {},
   "source": [
    "####ODCZYT I ZAPIS DO PLIKOW"
   ]
  },
  {
   "cell_type": "markdown",
   "metadata": {},
   "source": [
    "####KLASY?"
   ]
  },
  {
   "cell_type": "markdown",
   "metadata": {},
   "source": [
    "not operator"
   ]
  },
  {
   "cell_type": "markdown",
   "metadata": {},
   "source": []
  }
 ],
 "metadata": {
  "interpreter": {
   "hash": "797b01782c2bcdd2ff61baf0c8b9201f740aa0c368e077a46825b02126b66008"
  },
  "kernelspec": {
   "display_name": "Python 3.8.1 64-bit",
   "language": "python",
   "name": "python3"
  },
  "language_info": {
   "codemirror_mode": {
    "name": "ipython",
    "version": 3
   },
   "file_extension": ".py",
   "mimetype": "text/x-python",
   "name": "python",
   "nbconvert_exporter": "python",
   "pygments_lexer": "ipython3",
   "version": "3.8.1"
  },
  "orig_nbformat": 4
 },
 "nbformat": 4,
 "nbformat_minor": 2
}
