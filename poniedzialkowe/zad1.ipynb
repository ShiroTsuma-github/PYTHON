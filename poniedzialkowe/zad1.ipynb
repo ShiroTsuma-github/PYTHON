{
 "cells": [
  {
   "cell_type": "code",
   "execution_count": 1,
   "metadata": {},
   "outputs": [],
   "source": [
    "import math\n",
    "from funcy import print_durations"
   ]
  },
  {
   "attachments": {
    "image.png": {
     "image/png": "[encoded data removed]"
    }
   },
   "cell_type": "markdown",
   "metadata": {},
   "source": [
    "![image.png](attachment:image.png)"
   ]
  },
  {
   "cell_type": "code",
   "execution_count": 44,
   "metadata": {},
   "outputs": [],
   "source": [
    "@print_durations()\n",
    "def Cholesky_Decomposition(matrix):\n",
    "    n = len(matrix)\n",
    "    L = [[0 for _ in range(n)] for _ in range(n)]\n",
    "    for i in range(n):\n",
    "        # i = 0 -> j = 0\n",
    "        # i = 1 -> j = 0, 1\n",
    "        # i = 2 -> j = 0, 1, 2 -> k = 0\n",
    "        for j in range(i + 1):\n",
    "            suma = 0\n",
    "\n",
    "            # dla 3x3\n",
    "            #   0 x 0 = sqrt([0,0] - 0)\n",
    "            #   1 x 1 = sqrt([1,1] - [1,0]^2)\n",
    "            #   2 x 2 = sqrt([2,2] - [2,0]^2 + [2,1]^2)\n",
    "            if (j == i):\n",
    "                for k in range(j):\n",
    "                    suma += L[j][k] ** 2\n",
    "                L[j][j] = int(math.sqrt(matrix[j][j] - suma))\n",
    "                print(i,L)\n",
    "            else:\n",
    "                # dla 3x3 \n",
    "                # i = 2, j = 1, k = 0\n",
    "                for k in range(j):\n",
    "                    suma += (L[i][k] *L[j][k])\n",
    "                if(L[j][j] > 0):\n",
    "                    L[i][j] = int((matrix[i][j] - suma) /\n",
    "                                               L[j][j])\n",
    "                print(i,L)\n",
    "    return L"
   ]
  },
  {
   "cell_type": "code",
   "execution_count": 45,
   "metadata": {},
   "outputs": [
    {
     "name": "stdout",
     "output_type": "stream",
     "text": [
      "0 [[2, 0, 0], [0, 0, 0], [0, 0, 0]]\n",
      "1 [[2, 0, 0], [6, 0, 0], [0, 0, 0]]\n",
      "1 [[2, 0, 0], [6, 1, 0], [0, 0, 0]]\n",
      "2 [[2, 0, 0], [6, 1, 0], [-8, 0, 0]]\n",
      "2 [[2, 0, 0], [6, 1, 0], [-8, 5, 0]]\n",
      "2 [[2, 0, 0], [6, 1, 0], [-8, 5, 3]]\n",
      "   74.20 mks in Cholesky_Decomposition([[4, 12, -16], [12, 37...)\n",
      "[[2, 0, 0], [6, 1, 0], [-8, 5, 3]]\n"
     ]
    }
   ],
   "source": [
    "matrix: list[list[int]] = [\n",
    "    [4, 12, -16],\n",
    "    [12, 37, -43],\n",
    "    [-16, -43, 98]]\n",
    "L: list[list[int]] = Cholesky_Decomposition(matrix)\n",
    "print(L)"
   ]
  }
 ],
 "metadata": {
  "kernelspec": {
   "display_name": "Python 3",
   "language": "python",
   "name": "python3"
  },
  "language_info": {
   "codemirror_mode": {
    "name": "ipython",
    "version": 3
   },
   "file_extension": ".py",
   "mimetype": "text/x-python",
   "name": "python",
   "nbconvert_exporter": "python",
   "pygments_lexer": "ipython3",
   "version": "3.11.4"
  },
  "orig_nbformat": 4
 },
 "nbformat": 4,
 "nbformat_minor": 2
}
